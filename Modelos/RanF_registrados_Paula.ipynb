{
  "cells": [
    {
      "cell_type": "code",
      "execution_count": 163,
      "metadata": {
        "id": "SxwKMaPOoTi5"
      },
      "outputs": [],
      "source": [
        "import numpy as np\n",
        "import pandas as pd\n",
        "\n",
        "import matplotlib.pyplot as plt\n",
        "import seaborn as sns\n",
        "\n",
        "from sklearn.model_selection import train_test_split\n",
        "from sklearn.ensemble import RandomForestRegressor\n",
        "from sklearn import tree\n",
        "from sklearn.metrics import r2_score, mean_squared_error, mean_absolute_error\n",
        "from sklearn.model_selection import GridSearchCV\n",
        "\n",
        "from tqdm import tqdm\n",
        "\n",
        "import warnings\n",
        "warnings.filterwarnings('once')"
      ]
    },
    {
      "cell_type": "code",
      "execution_count": 197,
      "metadata": {
        "colab": {
          "base_uri": "https://localhost:8080/",
          "height": 112
        },
        "id": "RwQJL3S2oTi-",
        "outputId": "824fee18-ac98-42f9-db06-c9a8a9a047c0"
      },
      "outputs": [
        {
          "output_type": "execute_result",
          "data": {
            "text/plain": [
              "   año  sensacion_termica  humedad     viento  registrados  mes_map  \\\n",
              "0    0           18.18125  80.5833  10.749882          654        0   \n",
              "1    0           17.68695  69.6087  16.652113          670        0   \n",
              "\n",
              "   estacion_map  dia_semana_map  clima_map  vacaciones_map  cod_SI  \n",
              "0             0               0          1               0       0  \n",
              "1             0               0          1               1       1  "
            ],
            "text/html": [
              "\n",
              "  <div id=\"df-1cadbbd3-71fa-461f-9670-24c32e7f2ede\">\n",
              "    <div class=\"colab-df-container\">\n",
              "      <div>\n",
              "<style scoped>\n",
              "    .dataframe tbody tr th:only-of-type {\n",
              "        vertical-align: middle;\n",
              "    }\n",
              "\n",
              "    .dataframe tbody tr th {\n",
              "        vertical-align: top;\n",
              "    }\n",
              "\n",
              "    .dataframe thead th {\n",
              "        text-align: right;\n",
              "    }\n",
              "</style>\n",
              "<table border=\"1\" class=\"dataframe\">\n",
              "  <thead>\n",
              "    <tr style=\"text-align: right;\">\n",
              "      <th></th>\n",
              "      <th>año</th>\n",
              "      <th>sensacion_termica</th>\n",
              "      <th>humedad</th>\n",
              "      <th>viento</th>\n",
              "      <th>registrados</th>\n",
              "      <th>mes_map</th>\n",
              "      <th>estacion_map</th>\n",
              "      <th>dia_semana_map</th>\n",
              "      <th>clima_map</th>\n",
              "      <th>vacaciones_map</th>\n",
              "      <th>cod_SI</th>\n",
              "    </tr>\n",
              "  </thead>\n",
              "  <tbody>\n",
              "    <tr>\n",
              "      <th>0</th>\n",
              "      <td>0</td>\n",
              "      <td>18.18125</td>\n",
              "      <td>80.5833</td>\n",
              "      <td>10.749882</td>\n",
              "      <td>654</td>\n",
              "      <td>0</td>\n",
              "      <td>0</td>\n",
              "      <td>0</td>\n",
              "      <td>1</td>\n",
              "      <td>0</td>\n",
              "      <td>0</td>\n",
              "    </tr>\n",
              "    <tr>\n",
              "      <th>1</th>\n",
              "      <td>0</td>\n",
              "      <td>17.68695</td>\n",
              "      <td>69.6087</td>\n",
              "      <td>16.652113</td>\n",
              "      <td>670</td>\n",
              "      <td>0</td>\n",
              "      <td>0</td>\n",
              "      <td>0</td>\n",
              "      <td>1</td>\n",
              "      <td>1</td>\n",
              "      <td>1</td>\n",
              "    </tr>\n",
              "  </tbody>\n",
              "</table>\n",
              "</div>\n",
              "      <button class=\"colab-df-convert\" onclick=\"convertToInteractive('df-1cadbbd3-71fa-461f-9670-24c32e7f2ede')\"\n",
              "              title=\"Convert this dataframe to an interactive table.\"\n",
              "              style=\"display:none;\">\n",
              "        \n",
              "  <svg xmlns=\"http://www.w3.org/2000/svg\" height=\"24px\"viewBox=\"0 0 24 24\"\n",
              "       width=\"24px\">\n",
              "    <path d=\"M0 0h24v24H0V0z\" fill=\"none\"/>\n",
              "    <path d=\"M18.56 5.44l.94 2.06.94-2.06 2.06-.94-2.06-.94-.94-2.06-.94 2.06-2.06.94zm-11 1L8.5 8.5l.94-2.06 2.06-.94-2.06-.94L8.5 2.5l-.94 2.06-2.06.94zm10 10l.94 2.06.94-2.06 2.06-.94-2.06-.94-.94-2.06-.94 2.06-2.06.94z\"/><path d=\"M17.41 7.96l-1.37-1.37c-.4-.4-.92-.59-1.43-.59-.52 0-1.04.2-1.43.59L10.3 9.45l-7.72 7.72c-.78.78-.78 2.05 0 2.83L4 21.41c.39.39.9.59 1.41.59.51 0 1.02-.2 1.41-.59l7.78-7.78 2.81-2.81c.8-.78.8-2.07 0-2.86zM5.41 20L4 18.59l7.72-7.72 1.47 1.35L5.41 20z\"/>\n",
              "  </svg>\n",
              "      </button>\n",
              "      \n",
              "  <style>\n",
              "    .colab-df-container {\n",
              "      display:flex;\n",
              "      flex-wrap:wrap;\n",
              "      gap: 12px;\n",
              "    }\n",
              "\n",
              "    .colab-df-convert {\n",
              "      background-color: #E8F0FE;\n",
              "      border: none;\n",
              "      border-radius: 50%;\n",
              "      cursor: pointer;\n",
              "      display: none;\n",
              "      fill: #1967D2;\n",
              "      height: 32px;\n",
              "      padding: 0 0 0 0;\n",
              "      width: 32px;\n",
              "    }\n",
              "\n",
              "    .colab-df-convert:hover {\n",
              "      background-color: #E2EBFA;\n",
              "      box-shadow: 0px 1px 2px rgba(60, 64, 67, 0.3), 0px 1px 3px 1px rgba(60, 64, 67, 0.15);\n",
              "      fill: #174EA6;\n",
              "    }\n",
              "\n",
              "    [theme=dark] .colab-df-convert {\n",
              "      background-color: #3B4455;\n",
              "      fill: #D2E3FC;\n",
              "    }\n",
              "\n",
              "    [theme=dark] .colab-df-convert:hover {\n",
              "      background-color: #434B5C;\n",
              "      box-shadow: 0px 1px 3px 1px rgba(0, 0, 0, 0.15);\n",
              "      filter: drop-shadow(0px 1px 2px rgba(0, 0, 0, 0.3));\n",
              "      fill: #FFFFFF;\n",
              "    }\n",
              "  </style>\n",
              "\n",
              "      <script>\n",
              "        const buttonEl =\n",
              "          document.querySelector('#df-1cadbbd3-71fa-461f-9670-24c32e7f2ede button.colab-df-convert');\n",
              "        buttonEl.style.display =\n",
              "          google.colab.kernel.accessAllowed ? 'block' : 'none';\n",
              "\n",
              "        async function convertToInteractive(key) {\n",
              "          const element = document.querySelector('#df-1cadbbd3-71fa-461f-9670-24c32e7f2ede');\n",
              "          const dataTable =\n",
              "            await google.colab.kernel.invokeFunction('convertToInteractive',\n",
              "                                                     [key], {});\n",
              "          if (!dataTable) return;\n",
              "\n",
              "          const docLinkHtml = 'Like what you see? Visit the ' +\n",
              "            '<a target=\"_blank\" href=https://colab.research.google.com/notebooks/data_table.ipynb>data table notebook</a>'\n",
              "            + ' to learn more about interactive tables.';\n",
              "          element.innerHTML = '';\n",
              "          dataTable['output_type'] = 'display_data';\n",
              "          await google.colab.output.renderOutput(dataTable, element);\n",
              "          const docLink = document.createElement('div');\n",
              "          docLink.innerHTML = docLinkHtml;\n",
              "          element.appendChild(docLink);\n",
              "        }\n",
              "      </script>\n",
              "    </div>\n",
              "  </div>\n",
              "  "
            ]
          },
          "metadata": {},
          "execution_count": 197
        }
      ],
      "source": [
        "df=pd.read_csv('03_registrados_cod.csv', index_col=0)\n",
        "df.head(2)"
      ]
    },
    {
      "cell_type": "code",
      "source": [
        "usuario = {'año':0, 'sensacion_termica':18.18125, 'humedad':80.5833, 'viento': 10.749882, 'mes_map': 0,  'estacion_map': 0 , 'dia_semana_map' :0, 'clima_map': 1, 'vacaciones_map':0 ,'cod_SI':0 }\n",
        "df_usuario = pd.DataFrame(usuario, index = [0])\n",
        "df_usuario"
      ],
      "metadata": {
        "colab": {
          "base_uri": "https://localhost:8080/",
          "height": 81
        },
        "id": "koLd0y29K4cW",
        "outputId": "96c3eb80-546f-407a-cafd-e62f12409bb4"
      },
      "execution_count": 166,
      "outputs": [
        {
          "output_type": "execute_result",
          "data": {
            "text/plain": [
              "   año  sensacion_termica  humedad     viento  mes_map  estacion_map  \\\n",
              "0    0           18.18125  80.5833  10.749882        0             0   \n",
              "\n",
              "   dia_semana_map  clima_map  vacaciones_map  cod_SI  \n",
              "0               0          1               0       0  "
            ],
            "text/html": [
              "\n",
              "  <div id=\"df-5c1c2176-0410-478b-b5e3-2a3fdcef45c5\">\n",
              "    <div class=\"colab-df-container\">\n",
              "      <div>\n",
              "<style scoped>\n",
              "    .dataframe tbody tr th:only-of-type {\n",
              "        vertical-align: middle;\n",
              "    }\n",
              "\n",
              "    .dataframe tbody tr th {\n",
              "        vertical-align: top;\n",
              "    }\n",
              "\n",
              "    .dataframe thead th {\n",
              "        text-align: right;\n",
              "    }\n",
              "</style>\n",
              "<table border=\"1\" class=\"dataframe\">\n",
              "  <thead>\n",
              "    <tr style=\"text-align: right;\">\n",
              "      <th></th>\n",
              "      <th>año</th>\n",
              "      <th>sensacion_termica</th>\n",
              "      <th>humedad</th>\n",
              "      <th>viento</th>\n",
              "      <th>mes_map</th>\n",
              "      <th>estacion_map</th>\n",
              "      <th>dia_semana_map</th>\n",
              "      <th>clima_map</th>\n",
              "      <th>vacaciones_map</th>\n",
              "      <th>cod_SI</th>\n",
              "    </tr>\n",
              "  </thead>\n",
              "  <tbody>\n",
              "    <tr>\n",
              "      <th>0</th>\n",
              "      <td>0</td>\n",
              "      <td>18.18125</td>\n",
              "      <td>80.5833</td>\n",
              "      <td>10.749882</td>\n",
              "      <td>0</td>\n",
              "      <td>0</td>\n",
              "      <td>0</td>\n",
              "      <td>1</td>\n",
              "      <td>0</td>\n",
              "      <td>0</td>\n",
              "    </tr>\n",
              "  </tbody>\n",
              "</table>\n",
              "</div>\n",
              "      <button class=\"colab-df-convert\" onclick=\"convertToInteractive('df-5c1c2176-0410-478b-b5e3-2a3fdcef45c5')\"\n",
              "              title=\"Convert this dataframe to an interactive table.\"\n",
              "              style=\"display:none;\">\n",
              "        \n",
              "  <svg xmlns=\"http://www.w3.org/2000/svg\" height=\"24px\"viewBox=\"0 0 24 24\"\n",
              "       width=\"24px\">\n",
              "    <path d=\"M0 0h24v24H0V0z\" fill=\"none\"/>\n",
              "    <path d=\"M18.56 5.44l.94 2.06.94-2.06 2.06-.94-2.06-.94-.94-2.06-.94 2.06-2.06.94zm-11 1L8.5 8.5l.94-2.06 2.06-.94-2.06-.94L8.5 2.5l-.94 2.06-2.06.94zm10 10l.94 2.06.94-2.06 2.06-.94-2.06-.94-.94-2.06-.94 2.06-2.06.94z\"/><path d=\"M17.41 7.96l-1.37-1.37c-.4-.4-.92-.59-1.43-.59-.52 0-1.04.2-1.43.59L10.3 9.45l-7.72 7.72c-.78.78-.78 2.05 0 2.83L4 21.41c.39.39.9.59 1.41.59.51 0 1.02-.2 1.41-.59l7.78-7.78 2.81-2.81c.8-.78.8-2.07 0-2.86zM5.41 20L4 18.59l7.72-7.72 1.47 1.35L5.41 20z\"/>\n",
              "  </svg>\n",
              "      </button>\n",
              "      \n",
              "  <style>\n",
              "    .colab-df-container {\n",
              "      display:flex;\n",
              "      flex-wrap:wrap;\n",
              "      gap: 12px;\n",
              "    }\n",
              "\n",
              "    .colab-df-convert {\n",
              "      background-color: #E8F0FE;\n",
              "      border: none;\n",
              "      border-radius: 50%;\n",
              "      cursor: pointer;\n",
              "      display: none;\n",
              "      fill: #1967D2;\n",
              "      height: 32px;\n",
              "      padding: 0 0 0 0;\n",
              "      width: 32px;\n",
              "    }\n",
              "\n",
              "    .colab-df-convert:hover {\n",
              "      background-color: #E2EBFA;\n",
              "      box-shadow: 0px 1px 2px rgba(60, 64, 67, 0.3), 0px 1px 3px 1px rgba(60, 64, 67, 0.15);\n",
              "      fill: #174EA6;\n",
              "    }\n",
              "\n",
              "    [theme=dark] .colab-df-convert {\n",
              "      background-color: #3B4455;\n",
              "      fill: #D2E3FC;\n",
              "    }\n",
              "\n",
              "    [theme=dark] .colab-df-convert:hover {\n",
              "      background-color: #434B5C;\n",
              "      box-shadow: 0px 1px 3px 1px rgba(0, 0, 0, 0.15);\n",
              "      filter: drop-shadow(0px 1px 2px rgba(0, 0, 0, 0.3));\n",
              "      fill: #FFFFFF;\n",
              "    }\n",
              "  </style>\n",
              "\n",
              "      <script>\n",
              "        const buttonEl =\n",
              "          document.querySelector('#df-5c1c2176-0410-478b-b5e3-2a3fdcef45c5 button.colab-df-convert');\n",
              "        buttonEl.style.display =\n",
              "          google.colab.kernel.accessAllowed ? 'block' : 'none';\n",
              "\n",
              "        async function convertToInteractive(key) {\n",
              "          const element = document.querySelector('#df-5c1c2176-0410-478b-b5e3-2a3fdcef45c5');\n",
              "          const dataTable =\n",
              "            await google.colab.kernel.invokeFunction('convertToInteractive',\n",
              "                                                     [key], {});\n",
              "          if (!dataTable) return;\n",
              "\n",
              "          const docLinkHtml = 'Like what you see? Visit the ' +\n",
              "            '<a target=\"_blank\" href=https://colab.research.google.com/notebooks/data_table.ipynb>data table notebook</a>'\n",
              "            + ' to learn more about interactive tables.';\n",
              "          element.innerHTML = '';\n",
              "          dataTable['output_type'] = 'display_data';\n",
              "          await google.colab.output.renderOutput(dataTable, element);\n",
              "          const docLink = document.createElement('div');\n",
              "          docLink.innerHTML = docLinkHtml;\n",
              "          element.appendChild(docLink);\n",
              "        }\n",
              "      </script>\n",
              "    </div>\n",
              "  </div>\n",
              "  "
            ]
          },
          "metadata": {},
          "execution_count": 166
        }
      ]
    },
    {
      "cell_type": "code",
      "source": [
        "bosque.predict(df_usuario)"
      ],
      "metadata": {
        "colab": {
          "base_uri": "https://localhost:8080/"
        },
        "id": "lgH7JIILLmIO",
        "outputId": "620ae068-396c-4cd5-a58a-840294f6670a"
      },
      "execution_count": 167,
      "outputs": [
        {
          "output_type": "execute_result",
          "data": {
            "text/plain": [
              "array([1181.92051288])"
            ]
          },
          "metadata": {},
          "execution_count": 167
        }
      ]
    },
    {
      "cell_type": "code",
      "execution_count": 198,
      "metadata": {
        "id": "ohprfurGoTjB"
      },
      "outputs": [],
      "source": [
        "#  separamos nuestro dataframe en X e y\n",
        "\n",
        "X = df.drop([\"registrados\"], axis = 1)\n",
        "y = df[\"registrados\"]"
      ]
    },
    {
      "cell_type": "code",
      "execution_count": 199,
      "metadata": {
        "id": "_S2P8tJpoTjC"
      },
      "outputs": [],
      "source": [
        "# dividimos nuestros datos en train y test para poder evaluar la validez de nuestro modelo\n",
        "\n",
        "x_train, x_test, y_train, y_test = train_test_split(X, y, test_size = 0.2, random_state = 42)"
      ]
    },
    {
      "cell_type": "code",
      "execution_count": 200,
      "metadata": {
        "id": "raoubZygoTjD"
      },
      "outputs": [],
      "source": [
        "\n",
        "param = {\"max_depth\": [9], \n",
        "        \"max_features\": [1,2,3,4],\n",
        "        \"min_samples_split\": [6,7,10],\n",
        "        \"min_samples_leaf\": [3,7,9]} "
      ]
    },
    {
      "cell_type": "code",
      "execution_count": 201,
      "metadata": {
        "id": "LkTPu3kOoTjE"
      },
      "outputs": [],
      "source": [
        "gs_rf = GridSearchCV(\n",
        "            estimator=RandomForestRegressor(), # tipo de modelo que queremos hacer\n",
        "            param_grid= param, # que hiperparámetros queremos que testee\n",
        "            cv=10, # crossvalidation que aprendimos en la lección de regresión lineal intro. \n",
        "            verbose=-1, # para que no nos printee ningún mensaje en pantalla\n",
        "            return_train_score = True, # para que nos devuelva el valor de las métricas de set de datos de entrenamiento\n",
        "            scoring=\"neg_mean_squared_error\")"
      ]
    },
    {
      "cell_type": "code",
      "execution_count": 202,
      "metadata": {
        "colab": {
          "base_uri": "https://localhost:8080/"
        },
        "id": "5Je7aySOoTjG",
        "outputId": "ff472139-2d21-46fd-8986-ae9b445efd4b"
      },
      "outputs": [
        {
          "output_type": "execute_result",
          "data": {
            "text/plain": [
              "GridSearchCV(cv=10, estimator=RandomForestRegressor(),\n",
              "             param_grid={'max_depth': [9], 'max_features': [1, 2, 3, 4],\n",
              "                         'min_samples_leaf': [3, 7, 9],\n",
              "                         'min_samples_split': [6, 7, 10]},\n",
              "             return_train_score=True, scoring='neg_mean_squared_error',\n",
              "             verbose=-1)"
            ]
          },
          "metadata": {},
          "execution_count": 202
        }
      ],
      "source": [
        "# ajustamos el modelo que acabamos de definir en el GridSearch\n",
        "\n",
        "gs_rf.fit(x_train, y_train)"
      ]
    },
    {
      "cell_type": "code",
      "execution_count": 203,
      "metadata": {
        "colab": {
          "base_uri": "https://localhost:8080/"
        },
        "id": "7JCcxshEoTjI",
        "outputId": "ad24ef11-df8e-4309-c0aa-b8fd2946a710"
      },
      "outputs": [
        {
          "output_type": "execute_result",
          "data": {
            "text/plain": [
              "RandomForestRegressor(max_depth=9, max_features=4, min_samples_leaf=3,\n",
              "                      min_samples_split=7)"
            ]
          },
          "metadata": {},
          "execution_count": 203
        }
      ],
      "source": [
        "# al igual que el decision tree podemos sacar cual es nuestro mejor bosque\n",
        "# En este caso,  nuestro mejor bosque es aquel que esta formado por arboles de 6 de profundidad, usa 4 variables y que tiene  un min_samples_leaf y un min_samples_split de 10. \n",
        "\n",
        "bosque = gs_rf.best_estimator_\n",
        "bosque"
      ]
    },
    {
      "cell_type": "code",
      "execution_count": 204,
      "metadata": {
        "id": "T9KgiHGHoTjK"
      },
      "outputs": [],
      "source": [
        "# Calculamos sus métricas\n",
        "y_pred_test_rf = bosque.predict(x_test)\n",
        "y_pred_train_rf = bosque.predict(x_train)"
      ]
    },
    {
      "cell_type": "code",
      "execution_count": 177,
      "metadata": {
        "id": "VDSZD2XWoTjM"
      },
      "outputs": [],
      "source": [
        "# Con esta función calculamos las métricas y las convertimos en dataframe\n",
        "def metricas(y_test, y_train, y_test_pred, y_train_pred, tipo_modelo):\n",
        "    \n",
        "    resultados = {'MAE': [mean_absolute_error(y_test, y_test_pred), mean_absolute_error(y_train, y_train_pred)],\n",
        "                'MSE': [mean_squared_error(y_test, y_test_pred), mean_squared_error(y_train, y_train_pred)],\n",
        "                'RMSE': [np.sqrt(mean_squared_error(y_test, y_test_pred)), np.sqrt(mean_squared_error(y_train, y_train_pred))],\n",
        "                'R2':  [r2_score(y_test, y_test_pred), r2_score(y_train, y_train_pred)],\n",
        "                 \"set\": [\"test\", \"train\"]}\n",
        "    df = pd.DataFrame(resultados)\n",
        "    df[\"modelo\"] = tipo_modelo\n",
        "    return df"
      ]
    },
    {
      "cell_type": "code",
      "execution_count": 205,
      "metadata": {
        "colab": {
          "base_uri": "https://localhost:8080/",
          "height": 112
        },
        "id": "6TGjYZi4oTjN",
        "outputId": "f04f8cde-917e-4c68-e2f3-7fff42f0b558"
      },
      "outputs": [
        {
          "output_type": "execute_result",
          "data": {
            "text/plain": [
              "          MAE            MSE        RMSE        R2    set         modelo\n",
              "0  432.841523  309979.050467  556.757623  0.856396   test  Random Forest\n",
              "1  357.816413  232368.102633  482.045747  0.906795  train  Random Forest"
            ],
            "text/html": [
              "\n",
              "  <div id=\"df-d329ddb6-0dd5-4ce6-a1aa-c51f28785c3a\">\n",
              "    <div class=\"colab-df-container\">\n",
              "      <div>\n",
              "<style scoped>\n",
              "    .dataframe tbody tr th:only-of-type {\n",
              "        vertical-align: middle;\n",
              "    }\n",
              "\n",
              "    .dataframe tbody tr th {\n",
              "        vertical-align: top;\n",
              "    }\n",
              "\n",
              "    .dataframe thead th {\n",
              "        text-align: right;\n",
              "    }\n",
              "</style>\n",
              "<table border=\"1\" class=\"dataframe\">\n",
              "  <thead>\n",
              "    <tr style=\"text-align: right;\">\n",
              "      <th></th>\n",
              "      <th>MAE</th>\n",
              "      <th>MSE</th>\n",
              "      <th>RMSE</th>\n",
              "      <th>R2</th>\n",
              "      <th>set</th>\n",
              "      <th>modelo</th>\n",
              "    </tr>\n",
              "  </thead>\n",
              "  <tbody>\n",
              "    <tr>\n",
              "      <th>0</th>\n",
              "      <td>432.841523</td>\n",
              "      <td>309979.050467</td>\n",
              "      <td>556.757623</td>\n",
              "      <td>0.856396</td>\n",
              "      <td>test</td>\n",
              "      <td>Random Forest</td>\n",
              "    </tr>\n",
              "    <tr>\n",
              "      <th>1</th>\n",
              "      <td>357.816413</td>\n",
              "      <td>232368.102633</td>\n",
              "      <td>482.045747</td>\n",
              "      <td>0.906795</td>\n",
              "      <td>train</td>\n",
              "      <td>Random Forest</td>\n",
              "    </tr>\n",
              "  </tbody>\n",
              "</table>\n",
              "</div>\n",
              "      <button class=\"colab-df-convert\" onclick=\"convertToInteractive('df-d329ddb6-0dd5-4ce6-a1aa-c51f28785c3a')\"\n",
              "              title=\"Convert this dataframe to an interactive table.\"\n",
              "              style=\"display:none;\">\n",
              "        \n",
              "  <svg xmlns=\"http://www.w3.org/2000/svg\" height=\"24px\"viewBox=\"0 0 24 24\"\n",
              "       width=\"24px\">\n",
              "    <path d=\"M0 0h24v24H0V0z\" fill=\"none\"/>\n",
              "    <path d=\"M18.56 5.44l.94 2.06.94-2.06 2.06-.94-2.06-.94-.94-2.06-.94 2.06-2.06.94zm-11 1L8.5 8.5l.94-2.06 2.06-.94-2.06-.94L8.5 2.5l-.94 2.06-2.06.94zm10 10l.94 2.06.94-2.06 2.06-.94-2.06-.94-.94-2.06-.94 2.06-2.06.94z\"/><path d=\"M17.41 7.96l-1.37-1.37c-.4-.4-.92-.59-1.43-.59-.52 0-1.04.2-1.43.59L10.3 9.45l-7.72 7.72c-.78.78-.78 2.05 0 2.83L4 21.41c.39.39.9.59 1.41.59.51 0 1.02-.2 1.41-.59l7.78-7.78 2.81-2.81c.8-.78.8-2.07 0-2.86zM5.41 20L4 18.59l7.72-7.72 1.47 1.35L5.41 20z\"/>\n",
              "  </svg>\n",
              "      </button>\n",
              "      \n",
              "  <style>\n",
              "    .colab-df-container {\n",
              "      display:flex;\n",
              "      flex-wrap:wrap;\n",
              "      gap: 12px;\n",
              "    }\n",
              "\n",
              "    .colab-df-convert {\n",
              "      background-color: #E8F0FE;\n",
              "      border: none;\n",
              "      border-radius: 50%;\n",
              "      cursor: pointer;\n",
              "      display: none;\n",
              "      fill: #1967D2;\n",
              "      height: 32px;\n",
              "      padding: 0 0 0 0;\n",
              "      width: 32px;\n",
              "    }\n",
              "\n",
              "    .colab-df-convert:hover {\n",
              "      background-color: #E2EBFA;\n",
              "      box-shadow: 0px 1px 2px rgba(60, 64, 67, 0.3), 0px 1px 3px 1px rgba(60, 64, 67, 0.15);\n",
              "      fill: #174EA6;\n",
              "    }\n",
              "\n",
              "    [theme=dark] .colab-df-convert {\n",
              "      background-color: #3B4455;\n",
              "      fill: #D2E3FC;\n",
              "    }\n",
              "\n",
              "    [theme=dark] .colab-df-convert:hover {\n",
              "      background-color: #434B5C;\n",
              "      box-shadow: 0px 1px 3px 1px rgba(0, 0, 0, 0.15);\n",
              "      filter: drop-shadow(0px 1px 2px rgba(0, 0, 0, 0.3));\n",
              "      fill: #FFFFFF;\n",
              "    }\n",
              "  </style>\n",
              "\n",
              "      <script>\n",
              "        const buttonEl =\n",
              "          document.querySelector('#df-d329ddb6-0dd5-4ce6-a1aa-c51f28785c3a button.colab-df-convert');\n",
              "        buttonEl.style.display =\n",
              "          google.colab.kernel.accessAllowed ? 'block' : 'none';\n",
              "\n",
              "        async function convertToInteractive(key) {\n",
              "          const element = document.querySelector('#df-d329ddb6-0dd5-4ce6-a1aa-c51f28785c3a');\n",
              "          const dataTable =\n",
              "            await google.colab.kernel.invokeFunction('convertToInteractive',\n",
              "                                                     [key], {});\n",
              "          if (!dataTable) return;\n",
              "\n",
              "          const docLinkHtml = 'Like what you see? Visit the ' +\n",
              "            '<a target=\"_blank\" href=https://colab.research.google.com/notebooks/data_table.ipynb>data table notebook</a>'\n",
              "            + ' to learn more about interactive tables.';\n",
              "          element.innerHTML = '';\n",
              "          dataTable['output_type'] = 'display_data';\n",
              "          await google.colab.output.renderOutput(dataTable, element);\n",
              "          const docLink = document.createElement('div');\n",
              "          docLink.innerHTML = docLinkHtml;\n",
              "          element.appendChild(docLink);\n",
              "        }\n",
              "      </script>\n",
              "    </div>\n",
              "  </div>\n",
              "  "
            ]
          },
          "metadata": {},
          "execution_count": 205
        }
      ],
      "source": [
        "# sacamos las métricas para ver si hay overfitting o unerfitting, para modificar la profundidad en función de estos resultados\n",
        "df_results = metricas(y_test, y_train, y_pred_test_rf, y_pred_train_rf, \"Random Forest\")\n",
        "df_results"
      ]
    },
    {
      "cell_type": "markdown",
      "source": [
        "![image.png](data:image/png;base64,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)\n",
        "![image.png](data:image/png;base64,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)"
      ],
      "metadata": {
        "id": "IX8_YkMSzoJx"
      }
    },
    {
      "cell_type": "code",
      "source": [],
      "metadata": {
        "id": "mSaGvfQHtr0y"
      },
      "execution_count": null,
      "outputs": []
    },
    {
      "cell_type": "code",
      "source": [
        "import pickle"
      ],
      "metadata": {
        "id": "j2-Vo_e4qM9V"
      },
      "execution_count": 12,
      "outputs": []
    },
    {
      "cell_type": "code",
      "source": [
        "with open(\"rf_86-90.pkl\", \"wb\") as fp:\n",
        "    pickle.dump(gs_rf, fp)"
      ],
      "metadata": {
        "id": "uItQ_2HMqXJE"
      },
      "execution_count": 100,
      "outputs": []
    },
    {
      "cell_type": "code",
      "source": [
        "#with open(\"bosque_86-90.pkl\", \"wb\") as fp:\n",
        "    #pickle.dump(bosque, fp)"
      ],
      "metadata": {
        "id": "xbie3p5wA_CC"
      },
      "execution_count": 99,
      "outputs": []
    }
  ],
  "metadata": {
    "kernelspec": {
      "display_name": "base",
      "language": "python",
      "name": "python3"
    },
    "language_info": {
      "codemirror_mode": {
        "name": "ipython",
        "version": 3
      },
      "file_extension": ".py",
      "mimetype": "text/x-python",
      "name": "python",
      "nbconvert_exporter": "python",
      "pygments_lexer": "ipython3",
      "version": "3.9.13"
    },
    "orig_nbformat": 4,
    "vscode": {
      "interpreter": {
        "hash": "85c042135e83639dad74b6ec6c9d943b5dc47ca281624d931a3e14168052f53c"
      }
    },
    "colab": {
      "provenance": []
    }
  },
  "nbformat": 4,
  "nbformat_minor": 0
}