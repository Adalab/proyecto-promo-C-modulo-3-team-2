{
 "cells": [
  {
   "cell_type": "code",
   "execution_count": 1,
   "metadata": {},
   "outputs": [],
   "source": [
    "import pandas as pd\n",
    "import numpy as np\n",
    "import matplotlib.pyplot as plt\n",
    "import seaborn as sns \n",
    "import warnings\n",
    "import calendar\n",
    "#import prophet\n",
    "from datetime import datetime\n",
    "from scipy import stats\n",
    "import researchpy as rp\n",
    "from scipy.stats import levene\n",
    "from sklearn.preprocessing import MinMaxScaler\n",
    "\n",
    "warnings.filterwarnings(\"ignore\")\n",
    "pd.options.display.max_columns = None\n",
    "\n",
    "plt.rcParams[\"figure.figsize\"] = (10,8)"
   ]
  },
  {
   "cell_type": "code",
   "execution_count": 32,
   "metadata": {},
   "outputs": [
    {
     "data": {
      "text/html": [
       "<div>\n",
       "<style scoped>\n",
       "    .dataframe tbody tr th:only-of-type {\n",
       "        vertical-align: middle;\n",
       "    }\n",
       "\n",
       "    .dataframe tbody tr th {\n",
       "        vertical-align: top;\n",
       "    }\n",
       "\n",
       "    .dataframe thead th {\n",
       "        text-align: right;\n",
       "    }\n",
       "</style>\n",
       "<table border=\"1\" class=\"dataframe\">\n",
       "  <thead>\n",
       "    <tr style=\"text-align: right;\">\n",
       "      <th></th>\n",
       "      <th>registro</th>\n",
       "      <th>fecha</th>\n",
       "      <th>estacion</th>\n",
       "      <th>año</th>\n",
       "      <th>mes</th>\n",
       "      <th>vacaciones</th>\n",
       "      <th>dia_semana</th>\n",
       "      <th>laborable</th>\n",
       "      <th>clima</th>\n",
       "      <th>temperatura</th>\n",
       "      <th>sensacion_termica</th>\n",
       "      <th>humedad</th>\n",
       "      <th>viento</th>\n",
       "      <th>casuales</th>\n",
       "    </tr>\n",
       "  </thead>\n",
       "  <tbody>\n",
       "    <tr>\n",
       "      <th>0</th>\n",
       "      <td>1</td>\n",
       "      <td>2018-01-01</td>\n",
       "      <td>winter</td>\n",
       "      <td>0</td>\n",
       "      <td>1</td>\n",
       "      <td>1</td>\n",
       "      <td>1</td>\n",
       "      <td>NO</td>\n",
       "      <td>2</td>\n",
       "      <td>14.110847</td>\n",
       "      <td>18.18125</td>\n",
       "      <td>80.5833</td>\n",
       "      <td>10.749882</td>\n",
       "      <td>331</td>\n",
       "    </tr>\n",
       "    <tr>\n",
       "      <th>1</th>\n",
       "      <td>2</td>\n",
       "      <td>2018-01-02</td>\n",
       "      <td>winter</td>\n",
       "      <td>0</td>\n",
       "      <td>1</td>\n",
       "      <td>0</td>\n",
       "      <td>2</td>\n",
       "      <td>SI</td>\n",
       "      <td>2</td>\n",
       "      <td>14.902598</td>\n",
       "      <td>17.68695</td>\n",
       "      <td>69.6087</td>\n",
       "      <td>16.652113</td>\n",
       "      <td>131</td>\n",
       "    </tr>\n",
       "    <tr>\n",
       "      <th>2</th>\n",
       "      <td>3</td>\n",
       "      <td>2018-01-03</td>\n",
       "      <td>winter</td>\n",
       "      <td>0</td>\n",
       "      <td>1</td>\n",
       "      <td>0</td>\n",
       "      <td>3</td>\n",
       "      <td>SI</td>\n",
       "      <td>1</td>\n",
       "      <td>8.050924</td>\n",
       "      <td>9.47025</td>\n",
       "      <td>43.7273</td>\n",
       "      <td>16.636703</td>\n",
       "      <td>120</td>\n",
       "    </tr>\n",
       "    <tr>\n",
       "      <th>3</th>\n",
       "      <td>4</td>\n",
       "      <td>2018-01-04</td>\n",
       "      <td>winter</td>\n",
       "      <td>0</td>\n",
       "      <td>1</td>\n",
       "      <td>0</td>\n",
       "      <td>4</td>\n",
       "      <td>SI</td>\n",
       "      <td>1</td>\n",
       "      <td>8.200000</td>\n",
       "      <td>10.60610</td>\n",
       "      <td>59.0435</td>\n",
       "      <td>10.739832</td>\n",
       "      <td>108</td>\n",
       "    </tr>\n",
       "    <tr>\n",
       "      <th>4</th>\n",
       "      <td>5</td>\n",
       "      <td>2018-01-05</td>\n",
       "      <td>winter</td>\n",
       "      <td>0</td>\n",
       "      <td>1</td>\n",
       "      <td>0</td>\n",
       "      <td>5</td>\n",
       "      <td>SI</td>\n",
       "      <td>1</td>\n",
       "      <td>9.305237</td>\n",
       "      <td>11.46350</td>\n",
       "      <td>43.6957</td>\n",
       "      <td>12.522300</td>\n",
       "      <td>82</td>\n",
       "    </tr>\n",
       "  </tbody>\n",
       "</table>\n",
       "</div>"
      ],
      "text/plain": [
       "   registro       fecha estacion  año  mes  vacaciones  dia_semana laborable  \\\n",
       "0         1  2018-01-01   winter    0    1           1           1        NO   \n",
       "1         2  2018-01-02   winter    0    1           0           2        SI   \n",
       "2         3  2018-01-03   winter    0    1           0           3        SI   \n",
       "3         4  2018-01-04   winter    0    1           0           4        SI   \n",
       "4         5  2018-01-05   winter    0    1           0           5        SI   \n",
       "\n",
       "   clima  temperatura  sensacion_termica  humedad     viento  casuales  \n",
       "0      2    14.110847           18.18125  80.5833  10.749882       331  \n",
       "1      2    14.902598           17.68695  69.6087  16.652113       131  \n",
       "2      1     8.050924            9.47025  43.7273  16.636703       120  \n",
       "3      1     8.200000           10.60610  59.0435  10.739832       108  \n",
       "4      1     9.305237           11.46350  43.6957  12.522300        82  "
      ]
     },
     "execution_count": 32,
     "metadata": {},
     "output_type": "execute_result"
    }
   ],
   "source": [
    "df = pd.read_csv('data/01_bikes_casuales.csv', index_col = 0 )\n",
    "df.head()"
   ]
  },
  {
   "cell_type": "code",
   "execution_count": 33,
   "metadata": {},
   "outputs": [
    {
     "name": "stdout",
     "output_type": "stream",
     "text": [
      "<class 'pandas.core.frame.DataFrame'>\n",
      "Int64Index: 730 entries, 0 to 729\n",
      "Data columns (total 14 columns):\n",
      " #   Column             Non-Null Count  Dtype  \n",
      "---  ------             --------------  -----  \n",
      " 0   registro           730 non-null    int64  \n",
      " 1   fecha              730 non-null    object \n",
      " 2   estacion           730 non-null    object \n",
      " 3   año                730 non-null    int64  \n",
      " 4   mes                730 non-null    int64  \n",
      " 5   vacaciones         730 non-null    int64  \n",
      " 6   dia_semana         730 non-null    int64  \n",
      " 7   laborable          730 non-null    object \n",
      " 8   clima              730 non-null    int64  \n",
      " 9   temperatura        730 non-null    float64\n",
      " 10  sensacion_termica  730 non-null    float64\n",
      " 11  humedad            730 non-null    float64\n",
      " 12  viento             730 non-null    float64\n",
      " 13  casuales           730 non-null    int64  \n",
      "dtypes: float64(4), int64(7), object(3)\n",
      "memory usage: 85.5+ KB\n"
     ]
    }
   ],
   "source": [
    "df.info()"
   ]
  },
  {
   "cell_type": "code",
   "execution_count": 34,
   "metadata": {},
   "outputs": [
    {
     "data": {
      "text/plain": [
       "(730, 14)"
      ]
     },
     "execution_count": 34,
     "metadata": {},
     "output_type": "execute_result"
    }
   ],
   "source": [
    "df.shape"
   ]
  },
  {
   "cell_type": "code",
   "execution_count": 35,
   "metadata": {},
   "outputs": [
    {
     "data": {
      "text/plain": [
       "0"
      ]
     },
     "execution_count": 35,
     "metadata": {},
     "output_type": "execute_result"
    }
   ],
   "source": [
    "df.duplicated().sum()"
   ]
  },
  {
   "cell_type": "code",
   "execution_count": 36,
   "metadata": {},
   "outputs": [
    {
     "data": {
      "text/plain": [
       "registro             0\n",
       "fecha                0\n",
       "estacion             0\n",
       "año                  0\n",
       "mes                  0\n",
       "vacaciones           0\n",
       "dia_semana           0\n",
       "laborable            0\n",
       "clima                0\n",
       "temperatura          0\n",
       "sensacion_termica    0\n",
       "humedad              0\n",
       "viento               0\n",
       "casuales             0\n",
       "dtype: int64"
      ]
     },
     "execution_count": 36,
     "metadata": {},
     "output_type": "execute_result"
    }
   ],
   "source": [
    "df.isnull().sum()"
   ]
  },
  {
   "cell_type": "code",
   "execution_count": 37,
   "metadata": {},
   "outputs": [],
   "source": [
    "df[\"vacaciones\"] = df[\"vacaciones\"].astype(\"category\")"
   ]
  },
  {
   "cell_type": "code",
   "execution_count": 38,
   "metadata": {},
   "outputs": [],
   "source": [
    "def detectar_outliers(lista_columnas, dataframe):\n",
    "    dicc_indices = {} # creamos un diccionario donde almacenaremos índices de los outliers\n",
    "    # iteramos por la lista de las columnas numéricas de nuestro dataframe\n",
    "    for col in lista_columnas:\n",
    "        #calculamos los cuartiles Q1 y Q3\n",
    "        Q1 = np.nanpercentile(df[col], 25)\n",
    "        Q3 = np.nanpercentile(df[col], 75)\n",
    "        # calculamos el rango intercuartil\n",
    "        IQR = Q3 - Q1\n",
    "        # calculamos los límites\n",
    "        outlier_step = 1.5 * IQR\n",
    "        # filtramos nuestro dataframe para indentificar los outliers\n",
    "        outliers_data = dataframe[(dataframe[col] < Q1 - outlier_step) | (dataframe[col] > Q3 + outlier_step)]\n",
    "        if outliers_data.shape[0] > 0: # chequeamos si nuestro dataframe tiene alguna fila.\n",
    "            dicc_indices[col] = (list(outliers_data.index)) # si tiene fila es que hay outliers y por lo tanto lo añadimos a nuestro diccionario\n",
    "    return dicc_indices"
   ]
  },
  {
   "cell_type": "code",
   "execution_count": 39,
   "metadata": {},
   "outputs": [],
   "source": [
    "numericas = df.select_dtypes(include = np.number)\n",
    "columnas = numericas.columns"
   ]
  },
  {
   "cell_type": "code",
   "execution_count": 40,
   "metadata": {},
   "outputs": [],
   "source": [
    "indices = detectar_outliers(columnas, numericas)"
   ]
  },
  {
   "cell_type": "code",
   "execution_count": 45,
   "metadata": {},
   "outputs": [],
   "source": [
    "out_casuales = indices[\"viento\"]"
   ]
  },
  {
   "attachments": {},
   "cell_type": "markdown",
   "metadata": {},
   "source": [
    "Detectamos que en viento y humedad tenemos "
   ]
  },
  {
   "cell_type": "code",
   "execution_count": 42,
   "metadata": {},
   "outputs": [
    {
     "data": {
      "image/png": "[encoded data removed]",
      "text/plain": [
       "<Figure size 1080x1800 with 9 Axes>"
      ]
     },
     "metadata": {
      "needs_background": "light"
     },
     "output_type": "display_data"
    }
   ],
   "source": [
    "fig, axes = plt.subplots(5, 2, figsize=(15,25))\n",
    "\n",
    "axes = axes.flat\n",
    "\n",
    "for indice, columna in enumerate(numericas.columns):\n",
    "    sns.boxplot(x = numericas[columna], data = df, ax=axes[indice], color = \"aquamarine\"); # para trazar una línea de densidad\n",
    "\n",
    "    \n",
    "plt.tight_layout()\n",
    "fig.delaxes(axes[-1])\n",
    "plt.show()\n"
   ]
  },
  {
   "attachments": {},
   "cell_type": "markdown",
   "metadata": {},
   "source": [
    "Seria interesante ver que que tienen en común los días en los que los casuales alquilan muchas más bicis"
   ]
  },
  {
   "cell_type": "code",
   "execution_count": 46,
   "metadata": {},
   "outputs": [
    {
     "data": {
      "image/png": "[encoded data removed]",
      "text/plain": [
       "<Figure size 576x288 with 1 Axes>"
      ]
     },
     "metadata": {
      "needs_background": "light"
     },
     "output_type": "display_data"
    }
   ],
   "source": [
    "plt.figure(figsize =(8,4))\n",
    "\n",
    "fig = sns.histplot(x='casuales', data = df, hue = 'estacion')\n",
    "\n",
    "# establecemos el nombre de los ejes, pero recordad que esto no es obligatorio ya que Seaborn nos los genera automaticamente\n",
    "fig.set(ylabel='Conteo', xlabel = 'Alquileres')\n",
    "\n",
    "# Ponemos título a  la gráfica\n",
    "fig.set_title('')\n",
    "\n",
    "# mostramos la gráfica\n",
    "plt.show()\n"
   ]
  },
  {
   "cell_type": "code",
   "execution_count": 47,
   "metadata": {},
   "outputs": [
    {
     "data": {
      "image/png": "[encoded data removed]",
      "text/plain": [
       "<Figure size 576x288 with 1 Axes>"
      ]
     },
     "metadata": {
      "needs_background": "light"
     },
     "output_type": "display_data"
    }
   ],
   "source": [
    "plt.figure(figsize =(8,4))\n",
    "\n",
    "fig = sns.histplot(x='casuales', data = df, hue = 'laborable')\n",
    "\n",
    "# establecemos el nombre de los ejes, pero recordad que esto no es obligatorio ya que Seaborn nos los genera automaticamente\n",
    "fig.set(ylabel='Conteo', xlabel = 'Alquileres')\n",
    "\n",
    "# Ponemos título a  la gráfica\n",
    "fig.set_title('')\n",
    "\n",
    "# mostramos la gráfica\n",
    "plt.show()"
   ]
  },
  {
   "cell_type": "code",
   "execution_count": null,
   "metadata": {},
   "outputs": [
    {
     "data": {
      "text/html": [
       "<div>\n",
       "<style scoped>\n",
       "    .dataframe tbody tr th:only-of-type {\n",
       "        vertical-align: middle;\n",
       "    }\n",
       "\n",
       "    .dataframe tbody tr th {\n",
       "        vertical-align: top;\n",
       "    }\n",
       "\n",
       "    .dataframe thead th {\n",
       "        text-align: right;\n",
       "    }\n",
       "</style>\n",
       "<table border=\"1\" class=\"dataframe\">\n",
       "  <thead>\n",
       "    <tr style=\"text-align: right;\">\n",
       "      <th></th>\n",
       "      <th>registro</th>\n",
       "      <th>fecha</th>\n",
       "      <th>estacion</th>\n",
       "      <th>año</th>\n",
       "      <th>mes</th>\n",
       "      <th>vacaciones</th>\n",
       "      <th>dia_semana</th>\n",
       "      <th>laborable</th>\n",
       "      <th>clima</th>\n",
       "      <th>temperatura</th>\n",
       "      <th>sensacion_termica</th>\n",
       "      <th>humedad</th>\n",
       "      <th>viento</th>\n",
       "      <th>registrados</th>\n",
       "    </tr>\n",
       "  </thead>\n",
       "  <tbody>\n",
       "    <tr>\n",
       "      <th>667</th>\n",
       "      <td>668</td>\n",
       "      <td>2019-10-30</td>\n",
       "      <td>autumn</td>\n",
       "      <td>1</td>\n",
       "      <td>10</td>\n",
       "      <td>0</td>\n",
       "      <td>3</td>\n",
       "      <td>SI</td>\n",
       "      <td>2</td>\n",
       "      <td>13.045462</td>\n",
       "      <td>15.49545</td>\n",
       "      <td>82.5455</td>\n",
       "      <td>14.271603</td>\n",
       "      <td>1009</td>\n",
       "    </tr>\n",
       "  </tbody>\n",
       "</table>\n",
       "</div>"
      ],
      "text/plain": [
       "     registro       fecha estacion  año  mes vacaciones  dia_semana laborable  \\\n",
       "667       668  2019-10-30   autumn    1   10          0           3        SI   \n",
       "\n",
       "     clima  temperatura  sensacion_termica  humedad     viento  registrados  \n",
       "667      2    13.045462           15.49545  82.5455  14.271603         1009  "
      ]
     },
     "execution_count": 15,
     "metadata": {},
     "output_type": "execute_result"
    }
   ],
   "source": [
    "df.sample()"
   ]
  },
  {
   "attachments": {},
   "cell_type": "markdown",
   "metadata": {},
   "source": [
    "A primera vista podemos ver que los alquileres casuales tienen más que ver con si es dia laborable o no, más que incluso el tiempo.\n",
    "A los usuarios registrados les afecta menos si es dia laborable o no."
   ]
  },
  {
   "attachments": {},
   "cell_type": "markdown",
   "metadata": {},
   "source": [
    "__________"
   ]
  },
  {
   "attachments": {},
   "cell_type": "markdown",
   "metadata": {},
   "source": [
    "Miramos las asunciones"
   ]
  },
  {
   "cell_type": "code",
   "execution_count": 53,
   "metadata": {},
   "outputs": [
    {
     "data": {
      "text/html": [
       "<div>\n",
       "<style scoped>\n",
       "    .dataframe tbody tr th:only-of-type {\n",
       "        vertical-align: middle;\n",
       "    }\n",
       "\n",
       "    .dataframe tbody tr th {\n",
       "        vertical-align: top;\n",
       "    }\n",
       "\n",
       "    .dataframe thead th {\n",
       "        text-align: right;\n",
       "    }\n",
       "</style>\n",
       "<table border=\"1\" class=\"dataframe\">\n",
       "  <thead>\n",
       "    <tr style=\"text-align: right;\">\n",
       "      <th></th>\n",
       "      <th>registro</th>\n",
       "      <th>fecha</th>\n",
       "      <th>estacion</th>\n",
       "      <th>año</th>\n",
       "      <th>mes</th>\n",
       "      <th>vacaciones</th>\n",
       "      <th>dia_semana</th>\n",
       "      <th>laborable</th>\n",
       "      <th>clima</th>\n",
       "      <th>temperatura</th>\n",
       "      <th>sensacion_termica</th>\n",
       "      <th>humedad</th>\n",
       "      <th>viento</th>\n",
       "      <th>casuales</th>\n",
       "      <th>casuales_raiz</th>\n",
       "    </tr>\n",
       "  </thead>\n",
       "  <tbody>\n",
       "    <tr>\n",
       "      <th>0</th>\n",
       "      <td>1</td>\n",
       "      <td>2018-01-01</td>\n",
       "      <td>winter</td>\n",
       "      <td>0</td>\n",
       "      <td>1</td>\n",
       "      <td>1</td>\n",
       "      <td>1</td>\n",
       "      <td>NO</td>\n",
       "      <td>2</td>\n",
       "      <td>14.110847</td>\n",
       "      <td>18.18125</td>\n",
       "      <td>80.5833</td>\n",
       "      <td>10.749882</td>\n",
       "      <td>331</td>\n",
       "      <td>18.193405</td>\n",
       "    </tr>\n",
       "    <tr>\n",
       "      <th>1</th>\n",
       "      <td>2</td>\n",
       "      <td>2018-01-02</td>\n",
       "      <td>winter</td>\n",
       "      <td>0</td>\n",
       "      <td>1</td>\n",
       "      <td>0</td>\n",
       "      <td>2</td>\n",
       "      <td>SI</td>\n",
       "      <td>2</td>\n",
       "      <td>14.902598</td>\n",
       "      <td>17.68695</td>\n",
       "      <td>69.6087</td>\n",
       "      <td>16.652113</td>\n",
       "      <td>131</td>\n",
       "      <td>11.445523</td>\n",
       "    </tr>\n",
       "    <tr>\n",
       "      <th>2</th>\n",
       "      <td>3</td>\n",
       "      <td>2018-01-03</td>\n",
       "      <td>winter</td>\n",
       "      <td>0</td>\n",
       "      <td>1</td>\n",
       "      <td>0</td>\n",
       "      <td>3</td>\n",
       "      <td>SI</td>\n",
       "      <td>1</td>\n",
       "      <td>8.050924</td>\n",
       "      <td>9.47025</td>\n",
       "      <td>43.7273</td>\n",
       "      <td>16.636703</td>\n",
       "      <td>120</td>\n",
       "      <td>10.954451</td>\n",
       "    </tr>\n",
       "    <tr>\n",
       "      <th>3</th>\n",
       "      <td>4</td>\n",
       "      <td>2018-01-04</td>\n",
       "      <td>winter</td>\n",
       "      <td>0</td>\n",
       "      <td>1</td>\n",
       "      <td>0</td>\n",
       "      <td>4</td>\n",
       "      <td>SI</td>\n",
       "      <td>1</td>\n",
       "      <td>8.200000</td>\n",
       "      <td>10.60610</td>\n",
       "      <td>59.0435</td>\n",
       "      <td>10.739832</td>\n",
       "      <td>108</td>\n",
       "      <td>10.392305</td>\n",
       "    </tr>\n",
       "    <tr>\n",
       "      <th>4</th>\n",
       "      <td>5</td>\n",
       "      <td>2018-01-05</td>\n",
       "      <td>winter</td>\n",
       "      <td>0</td>\n",
       "      <td>1</td>\n",
       "      <td>0</td>\n",
       "      <td>5</td>\n",
       "      <td>SI</td>\n",
       "      <td>1</td>\n",
       "      <td>9.305237</td>\n",
       "      <td>11.46350</td>\n",
       "      <td>43.6957</td>\n",
       "      <td>12.522300</td>\n",
       "      <td>82</td>\n",
       "      <td>9.055385</td>\n",
       "    </tr>\n",
       "  </tbody>\n",
       "</table>\n",
       "</div>"
      ],
      "text/plain": [
       "   registro       fecha estacion  año  mes vacaciones  dia_semana laborable  \\\n",
       "0         1  2018-01-01   winter    0    1          1           1        NO   \n",
       "1         2  2018-01-02   winter    0    1          0           2        SI   \n",
       "2         3  2018-01-03   winter    0    1          0           3        SI   \n",
       "3         4  2018-01-04   winter    0    1          0           4        SI   \n",
       "4         5  2018-01-05   winter    0    1          0           5        SI   \n",
       "\n",
       "   clima  temperatura  sensacion_termica  humedad     viento  casuales  \\\n",
       "0      2    14.110847           18.18125  80.5833  10.749882       331   \n",
       "1      2    14.902598           17.68695  69.6087  16.652113       131   \n",
       "2      1     8.050924            9.47025  43.7273  16.636703       120   \n",
       "3      1     8.200000           10.60610  59.0435  10.739832       108   \n",
       "4      1     9.305237           11.46350  43.6957  12.522300        82   \n",
       "\n",
       "   casuales_raiz  \n",
       "0      18.193405  \n",
       "1      11.445523  \n",
       "2      10.954451  \n",
       "3      10.392305  \n",
       "4       9.055385  "
      ]
     },
     "execution_count": 53,
     "metadata": {},
     "output_type": "execute_result"
    }
   ],
   "source": [
    "df.head()"
   ]
  },
  {
   "attachments": {},
   "cell_type": "markdown",
   "metadata": {},
   "source": [
    "Testeamos la normalidad de la var respuesta"
   ]
  },
  {
   "cell_type": "code",
   "execution_count": 48,
   "metadata": {},
   "outputs": [
    {
     "data": {
      "text/plain": [
       "<seaborn.axisgrid.FacetGrid at 0x123dd37f0>"
      ]
     },
     "execution_count": 48,
     "metadata": {},
     "output_type": "execute_result"
    },
    {
     "data": {
      "image/png": "[encoded data removed]",
      "text/plain": [
       "<Figure size 360x360 with 1 Axes>"
      ]
     },
     "metadata": {
      "needs_background": "light"
     },
     "output_type": "display_data"
    }
   ],
   "source": [
    "sns.displot(df[\"casuales\"], kde=True)"
   ]
  },
  {
   "cell_type": "code",
   "execution_count": 49,
   "metadata": {},
   "outputs": [
    {
     "data": {
      "text/plain": [
       "ShapiroResult(statistic=0.8850967288017273, pvalue=7.660028716313278e-23)"
      ]
     },
     "execution_count": 49,
     "metadata": {},
     "output_type": "execute_result"
    }
   ],
   "source": [
    "stats.shapiro(df[\"casuales\"])"
   ]
  },
  {
   "attachments": {},
   "cell_type": "markdown",
   "metadata": {},
   "source": [
    "Los datos no son normales porque son menores de 0.05"
   ]
  },
  {
   "attachments": {},
   "cell_type": "markdown",
   "metadata": {},
   "source": [
    "Procedemos a normalizar la variable respuesta"
   ]
  },
  {
   "attachments": {},
   "cell_type": "markdown",
   "metadata": {},
   "source": [
    "Raiz cuadrada"
   ]
  },
  {
   "cell_type": "code",
   "execution_count": null,
   "metadata": {},
   "outputs": [],
   "source": [
    "import math"
   ]
  },
  {
   "cell_type": "code",
   "execution_count": 51,
   "metadata": {},
   "outputs": [],
   "source": [
    "df[\"casuales_raiz\"] = df[\"casuales\"].apply(lambda x: math.sqrt(x))"
   ]
  },
  {
   "cell_type": "code",
   "execution_count": 52,
   "metadata": {},
   "outputs": [
    {
     "data": {
      "text/plain": [
       "ShapiroResult(statistic=0.9811134338378906, pvalue=4.261200459154679e-08)"
      ]
     },
     "execution_count": 52,
     "metadata": {},
     "output_type": "execute_result"
    }
   ],
   "source": [
    "stats.shapiro(df[\"casuales_raiz\"])"
   ]
  },
  {
   "cell_type": "code",
   "execution_count": null,
   "metadata": {},
   "outputs": [
    {
     "data": {
      "text/plain": [
       "<seaborn.axisgrid.FacetGrid at 0x120bcbc70>"
      ]
     },
     "execution_count": 21,
     "metadata": {},
     "output_type": "execute_result"
    },
    {
     "data": {
      "image/png": "[encoded data removed]",
      "text/plain": [
       "<Figure size 360x360 with 1 Axes>"
      ]
     },
     "metadata": {
      "needs_background": "light"
     },
     "output_type": "display_data"
    }
   ],
   "source": [
    "sns.displot(df[\"casuales\"], kde=True)"
   ]
  },
  {
   "attachments": {},
   "cell_type": "markdown",
   "metadata": {},
   "source": [
    "Box_cox"
   ]
  },
  {
   "cell_type": "code",
   "execution_count": 54,
   "metadata": {},
   "outputs": [],
   "source": [
    "df['casuales_box'], lambda_ajustada = stats.boxcox(df['casuales'])\n"
   ]
  },
  {
   "cell_type": "code",
   "execution_count": 55,
   "metadata": {},
   "outputs": [
    {
     "data": {
      "text/plain": [
       "ShapiroResult(statistic=0.9915913939476013, pvalue=0.000365116517059505)"
      ]
     },
     "execution_count": 55,
     "metadata": {},
     "output_type": "execute_result"
    }
   ],
   "source": [
    "stats.shapiro(df[\"casuales_box\"])"
   ]
  },
  {
   "cell_type": "code",
   "execution_count": 56,
   "metadata": {},
   "outputs": [
    {
     "data": {
      "text/plain": [
       "<seaborn.axisgrid.FacetGrid at 0x123de9b50>"
      ]
     },
     "execution_count": 56,
     "metadata": {},
     "output_type": "execute_result"
    },
    {
     "data": {
      "image/png": "[encoded data removed]",
      "text/plain": [
       "<Figure size 360x360 with 1 Axes>"
      ]
     },
     "metadata": {
      "needs_background": "light"
     },
     "output_type": "display_data"
    }
   ],
   "source": [
    "sns.displot(df[\"casuales_box\"], kde=True)"
   ]
  },
  {
   "cell_type": "code",
   "execution_count": 57,
   "metadata": {},
   "outputs": [],
   "source": [
    "df[\"casuales_log\"] = df[\"casuales\"].apply(lambda x: np.log(x) if x > 0 else 0)"
   ]
  },
  {
   "cell_type": "code",
   "execution_count": 58,
   "metadata": {},
   "outputs": [
    {
     "data": {
      "text/html": [
       "<div>\n",
       "<style scoped>\n",
       "    .dataframe tbody tr th:only-of-type {\n",
       "        vertical-align: middle;\n",
       "    }\n",
       "\n",
       "    .dataframe tbody tr th {\n",
       "        vertical-align: top;\n",
       "    }\n",
       "\n",
       "    .dataframe thead th {\n",
       "        text-align: right;\n",
       "    }\n",
       "</style>\n",
       "<table border=\"1\" class=\"dataframe\">\n",
       "  <thead>\n",
       "    <tr style=\"text-align: right;\">\n",
       "      <th></th>\n",
       "      <th>registro</th>\n",
       "      <th>fecha</th>\n",
       "      <th>estacion</th>\n",
       "      <th>año</th>\n",
       "      <th>mes</th>\n",
       "      <th>vacaciones</th>\n",
       "      <th>dia_semana</th>\n",
       "      <th>laborable</th>\n",
       "      <th>clima</th>\n",
       "      <th>temperatura</th>\n",
       "      <th>sensacion_termica</th>\n",
       "      <th>humedad</th>\n",
       "      <th>viento</th>\n",
       "      <th>casuales</th>\n",
       "      <th>casuales_raiz</th>\n",
       "      <th>casuales_box</th>\n",
       "      <th>casuales_log</th>\n",
       "    </tr>\n",
       "  </thead>\n",
       "  <tbody>\n",
       "    <tr>\n",
       "      <th>0</th>\n",
       "      <td>1</td>\n",
       "      <td>2018-01-01</td>\n",
       "      <td>winter</td>\n",
       "      <td>0</td>\n",
       "      <td>1</td>\n",
       "      <td>1</td>\n",
       "      <td>1</td>\n",
       "      <td>NO</td>\n",
       "      <td>2</td>\n",
       "      <td>14.110847</td>\n",
       "      <td>18.18125</td>\n",
       "      <td>80.5833</td>\n",
       "      <td>10.749882</td>\n",
       "      <td>331</td>\n",
       "      <td>18.193405</td>\n",
       "      <td>16.397820</td>\n",
       "      <td>5.802118</td>\n",
       "    </tr>\n",
       "    <tr>\n",
       "      <th>1</th>\n",
       "      <td>2</td>\n",
       "      <td>2018-01-02</td>\n",
       "      <td>winter</td>\n",
       "      <td>0</td>\n",
       "      <td>1</td>\n",
       "      <td>0</td>\n",
       "      <td>2</td>\n",
       "      <td>SI</td>\n",
       "      <td>2</td>\n",
       "      <td>14.902598</td>\n",
       "      <td>17.68695</td>\n",
       "      <td>69.6087</td>\n",
       "      <td>16.652113</td>\n",
       "      <td>131</td>\n",
       "      <td>11.445523</td>\n",
       "      <td>11.472437</td>\n",
       "      <td>4.875197</td>\n",
       "    </tr>\n",
       "    <tr>\n",
       "      <th>2</th>\n",
       "      <td>3</td>\n",
       "      <td>2018-01-03</td>\n",
       "      <td>winter</td>\n",
       "      <td>0</td>\n",
       "      <td>1</td>\n",
       "      <td>0</td>\n",
       "      <td>3</td>\n",
       "      <td>SI</td>\n",
       "      <td>1</td>\n",
       "      <td>8.050924</td>\n",
       "      <td>9.47025</td>\n",
       "      <td>43.7273</td>\n",
       "      <td>16.636703</td>\n",
       "      <td>120</td>\n",
       "      <td>10.954451</td>\n",
       "      <td>11.076035</td>\n",
       "      <td>4.787492</td>\n",
       "    </tr>\n",
       "    <tr>\n",
       "      <th>3</th>\n",
       "      <td>4</td>\n",
       "      <td>2018-01-04</td>\n",
       "      <td>winter</td>\n",
       "      <td>0</td>\n",
       "      <td>1</td>\n",
       "      <td>0</td>\n",
       "      <td>4</td>\n",
       "      <td>SI</td>\n",
       "      <td>1</td>\n",
       "      <td>8.200000</td>\n",
       "      <td>10.60610</td>\n",
       "      <td>59.0435</td>\n",
       "      <td>10.739832</td>\n",
       "      <td>108</td>\n",
       "      <td>10.392305</td>\n",
       "      <td>10.613970</td>\n",
       "      <td>4.682131</td>\n",
       "    </tr>\n",
       "    <tr>\n",
       "      <th>4</th>\n",
       "      <td>5</td>\n",
       "      <td>2018-01-05</td>\n",
       "      <td>winter</td>\n",
       "      <td>0</td>\n",
       "      <td>1</td>\n",
       "      <td>0</td>\n",
       "      <td>5</td>\n",
       "      <td>SI</td>\n",
       "      <td>1</td>\n",
       "      <td>9.305237</td>\n",
       "      <td>11.46350</td>\n",
       "      <td>43.6957</td>\n",
       "      <td>12.522300</td>\n",
       "      <td>82</td>\n",
       "      <td>9.055385</td>\n",
       "      <td>9.475537</td>\n",
       "      <td>4.406719</td>\n",
       "    </tr>\n",
       "  </tbody>\n",
       "</table>\n",
       "</div>"
      ],
      "text/plain": [
       "   registro       fecha estacion  año  mes vacaciones  dia_semana laborable  \\\n",
       "0         1  2018-01-01   winter    0    1          1           1        NO   \n",
       "1         2  2018-01-02   winter    0    1          0           2        SI   \n",
       "2         3  2018-01-03   winter    0    1          0           3        SI   \n",
       "3         4  2018-01-04   winter    0    1          0           4        SI   \n",
       "4         5  2018-01-05   winter    0    1          0           5        SI   \n",
       "\n",
       "   clima  temperatura  sensacion_termica  humedad     viento  casuales  \\\n",
       "0      2    14.110847           18.18125  80.5833  10.749882       331   \n",
       "1      2    14.902598           17.68695  69.6087  16.652113       131   \n",
       "2      1     8.050924            9.47025  43.7273  16.636703       120   \n",
       "3      1     8.200000           10.60610  59.0435  10.739832       108   \n",
       "4      1     9.305237           11.46350  43.6957  12.522300        82   \n",
       "\n",
       "   casuales_raiz  casuales_box  casuales_log  \n",
       "0      18.193405     16.397820      5.802118  \n",
       "1      11.445523     11.472437      4.875197  \n",
       "2      10.954451     11.076035      4.787492  \n",
       "3      10.392305     10.613970      4.682131  \n",
       "4       9.055385      9.475537      4.406719  "
      ]
     },
     "execution_count": 58,
     "metadata": {},
     "output_type": "execute_result"
    }
   ],
   "source": [
    "df.head()"
   ]
  },
  {
   "cell_type": "code",
   "execution_count": 59,
   "metadata": {},
   "outputs": [
    {
     "data": {
      "text/plain": [
       "ShapiroResult(statistic=0.9472163915634155, pvalue=1.8073885266976222e-15)"
      ]
     },
     "execution_count": 59,
     "metadata": {},
     "output_type": "execute_result"
    }
   ],
   "source": [
    "stats.shapiro(df[\"casuales_log\"])"
   ]
  },
  {
   "cell_type": "code",
   "execution_count": 60,
   "metadata": {},
   "outputs": [
    {
     "data": {
      "image/png": "[encoded data removed]",
      "text/plain": [
       "<Figure size 1080x360 with 2 Axes>"
      ]
     },
     "metadata": {
      "needs_background": "light"
     },
     "output_type": "display_data"
    }
   ],
   "source": [
    "fig, axes = plt.subplots(1, 2, figsize = (15,5))\n",
    "\n",
    "axes[0].set_title('casuales original')\n",
    "axes[1].set_title('registrados_log')\n",
    "\n",
    "sns.distplot(df[\"casuales\"] ,ax = axes[0])\n",
    "sns.distplot(df[\"casuales_log\"], ax = axes[1]);"
   ]
  },
  {
   "cell_type": "markdown",
   "metadata": {},
   "source": [
    "#### Conclusion:\n",
    "\n",
    "Observamos que nuestro p_valor > 0.05 nuestros datos NO son normales. "
   ]
  },
  {
   "cell_type": "markdown",
   "metadata": {},
   "source": [
    "- Min Scaler"
   ]
  },
  {
   "cell_type": "code",
   "execution_count": 61,
   "metadata": {},
   "outputs": [
    {
     "data": {
      "text/plain": [
       "MinMaxScaler()"
      ]
     },
     "execution_count": 61,
     "metadata": {},
     "output_type": "execute_result"
    }
   ],
   "source": [
    "minmax = MinMaxScaler()\n",
    "minmax.fit(df[['casuales']])"
   ]
  },
  {
   "cell_type": "code",
   "execution_count": 63,
   "metadata": {},
   "outputs": [],
   "source": [
    "X_normalizadas = minmax.transform(df[['casuales']])"
   ]
  },
  {
   "cell_type": "code",
   "execution_count": 64,
   "metadata": {},
   "outputs": [
    {
     "data": {
      "text/plain": [
       "array([0.])"
      ]
     },
     "execution_count": 64,
     "metadata": {},
     "output_type": "execute_result"
    }
   ],
   "source": [
    "X_normalizadas.min(axis=0)"
   ]
  },
  {
   "cell_type": "code",
   "execution_count": 65,
   "metadata": {},
   "outputs": [
    {
     "data": {
      "text/plain": [
       "array([1.])"
      ]
     },
     "execution_count": 65,
     "metadata": {},
     "output_type": "execute_result"
    }
   ],
   "source": [
    "X_normalizadas.max(axis=0)"
   ]
  },
  {
   "cell_type": "code",
   "execution_count": 66,
   "metadata": {},
   "outputs": [
    {
     "data": {
      "text/html": [
       "<div>\n",
       "<style scoped>\n",
       "    .dataframe tbody tr th:only-of-type {\n",
       "        vertical-align: middle;\n",
       "    }\n",
       "\n",
       "    .dataframe tbody tr th {\n",
       "        vertical-align: top;\n",
       "    }\n",
       "\n",
       "    .dataframe thead th {\n",
       "        text-align: right;\n",
       "    }\n",
       "</style>\n",
       "<table border=\"1\" class=\"dataframe\">\n",
       "  <thead>\n",
       "    <tr style=\"text-align: right;\">\n",
       "      <th></th>\n",
       "      <th>casuales</th>\n",
       "    </tr>\n",
       "  </thead>\n",
       "  <tbody>\n",
       "    <tr>\n",
       "      <th>0</th>\n",
       "      <td>0.096538</td>\n",
       "    </tr>\n",
       "    <tr>\n",
       "      <th>1</th>\n",
       "      <td>0.037852</td>\n",
       "    </tr>\n",
       "    <tr>\n",
       "      <th>2</th>\n",
       "      <td>0.034624</td>\n",
       "    </tr>\n",
       "    <tr>\n",
       "      <th>3</th>\n",
       "      <td>0.031103</td>\n",
       "    </tr>\n",
       "    <tr>\n",
       "      <th>4</th>\n",
       "      <td>0.023474</td>\n",
       "    </tr>\n",
       "  </tbody>\n",
       "</table>\n",
       "</div>"
      ],
      "text/plain": [
       "   casuales\n",
       "0  0.096538\n",
       "1  0.037852\n",
       "2  0.034624\n",
       "3  0.031103\n",
       "4  0.023474"
      ]
     },
     "execution_count": 66,
     "metadata": {},
     "output_type": "execute_result"
    }
   ],
   "source": [
    "numericas_minmax= pd.DataFrame(X_normalizadas, columns= ['casuales'])\n",
    "numericas_minmax.head()"
   ]
  },
  {
   "cell_type": "code",
   "execution_count": 67,
   "metadata": {},
   "outputs": [
    {
     "data": {
      "text/html": [
       "<div>\n",
       "<style scoped>\n",
       "    .dataframe tbody tr th:only-of-type {\n",
       "        vertical-align: middle;\n",
       "    }\n",
       "\n",
       "    .dataframe tbody tr th {\n",
       "        vertical-align: top;\n",
       "    }\n",
       "\n",
       "    .dataframe thead th {\n",
       "        text-align: right;\n",
       "    }\n",
       "</style>\n",
       "<table border=\"1\" class=\"dataframe\">\n",
       "  <thead>\n",
       "    <tr style=\"text-align: right;\">\n",
       "      <th></th>\n",
       "      <th>registro</th>\n",
       "      <th>fecha</th>\n",
       "      <th>estacion</th>\n",
       "      <th>año</th>\n",
       "      <th>mes</th>\n",
       "      <th>vacaciones</th>\n",
       "      <th>dia_semana</th>\n",
       "      <th>laborable</th>\n",
       "      <th>clima</th>\n",
       "      <th>temperatura</th>\n",
       "      <th>sensacion_termica</th>\n",
       "      <th>humedad</th>\n",
       "      <th>viento</th>\n",
       "      <th>casuales</th>\n",
       "      <th>casuales_raiz</th>\n",
       "      <th>casuales_box</th>\n",
       "      <th>casuales_log</th>\n",
       "      <th>casuales_min_max</th>\n",
       "    </tr>\n",
       "  </thead>\n",
       "  <tbody>\n",
       "    <tr>\n",
       "      <th>0</th>\n",
       "      <td>1</td>\n",
       "      <td>2018-01-01</td>\n",
       "      <td>winter</td>\n",
       "      <td>0</td>\n",
       "      <td>1</td>\n",
       "      <td>1</td>\n",
       "      <td>1</td>\n",
       "      <td>NO</td>\n",
       "      <td>2</td>\n",
       "      <td>14.110847</td>\n",
       "      <td>18.18125</td>\n",
       "      <td>80.5833</td>\n",
       "      <td>10.749882</td>\n",
       "      <td>331</td>\n",
       "      <td>18.193405</td>\n",
       "      <td>16.397820</td>\n",
       "      <td>5.802118</td>\n",
       "      <td>0.096538</td>\n",
       "    </tr>\n",
       "    <tr>\n",
       "      <th>1</th>\n",
       "      <td>2</td>\n",
       "      <td>2018-01-02</td>\n",
       "      <td>winter</td>\n",
       "      <td>0</td>\n",
       "      <td>1</td>\n",
       "      <td>0</td>\n",
       "      <td>2</td>\n",
       "      <td>SI</td>\n",
       "      <td>2</td>\n",
       "      <td>14.902598</td>\n",
       "      <td>17.68695</td>\n",
       "      <td>69.6087</td>\n",
       "      <td>16.652113</td>\n",
       "      <td>131</td>\n",
       "      <td>11.445523</td>\n",
       "      <td>11.472437</td>\n",
       "      <td>4.875197</td>\n",
       "      <td>0.037852</td>\n",
       "    </tr>\n",
       "    <tr>\n",
       "      <th>2</th>\n",
       "      <td>3</td>\n",
       "      <td>2018-01-03</td>\n",
       "      <td>winter</td>\n",
       "      <td>0</td>\n",
       "      <td>1</td>\n",
       "      <td>0</td>\n",
       "      <td>3</td>\n",
       "      <td>SI</td>\n",
       "      <td>1</td>\n",
       "      <td>8.050924</td>\n",
       "      <td>9.47025</td>\n",
       "      <td>43.7273</td>\n",
       "      <td>16.636703</td>\n",
       "      <td>120</td>\n",
       "      <td>10.954451</td>\n",
       "      <td>11.076035</td>\n",
       "      <td>4.787492</td>\n",
       "      <td>0.034624</td>\n",
       "    </tr>\n",
       "    <tr>\n",
       "      <th>3</th>\n",
       "      <td>4</td>\n",
       "      <td>2018-01-04</td>\n",
       "      <td>winter</td>\n",
       "      <td>0</td>\n",
       "      <td>1</td>\n",
       "      <td>0</td>\n",
       "      <td>4</td>\n",
       "      <td>SI</td>\n",
       "      <td>1</td>\n",
       "      <td>8.200000</td>\n",
       "      <td>10.60610</td>\n",
       "      <td>59.0435</td>\n",
       "      <td>10.739832</td>\n",
       "      <td>108</td>\n",
       "      <td>10.392305</td>\n",
       "      <td>10.613970</td>\n",
       "      <td>4.682131</td>\n",
       "      <td>0.031103</td>\n",
       "    </tr>\n",
       "    <tr>\n",
       "      <th>4</th>\n",
       "      <td>5</td>\n",
       "      <td>2018-01-05</td>\n",
       "      <td>winter</td>\n",
       "      <td>0</td>\n",
       "      <td>1</td>\n",
       "      <td>0</td>\n",
       "      <td>5</td>\n",
       "      <td>SI</td>\n",
       "      <td>1</td>\n",
       "      <td>9.305237</td>\n",
       "      <td>11.46350</td>\n",
       "      <td>43.6957</td>\n",
       "      <td>12.522300</td>\n",
       "      <td>82</td>\n",
       "      <td>9.055385</td>\n",
       "      <td>9.475537</td>\n",
       "      <td>4.406719</td>\n",
       "      <td>0.023474</td>\n",
       "    </tr>\n",
       "  </tbody>\n",
       "</table>\n",
       "</div>"
      ],
      "text/plain": [
       "   registro       fecha estacion  año  mes vacaciones  dia_semana laborable  \\\n",
       "0         1  2018-01-01   winter    0    1          1           1        NO   \n",
       "1         2  2018-01-02   winter    0    1          0           2        SI   \n",
       "2         3  2018-01-03   winter    0    1          0           3        SI   \n",
       "3         4  2018-01-04   winter    0    1          0           4        SI   \n",
       "4         5  2018-01-05   winter    0    1          0           5        SI   \n",
       "\n",
       "   clima  temperatura  sensacion_termica  humedad     viento  casuales  \\\n",
       "0      2    14.110847           18.18125  80.5833  10.749882       331   \n",
       "1      2    14.902598           17.68695  69.6087  16.652113       131   \n",
       "2      1     8.050924            9.47025  43.7273  16.636703       120   \n",
       "3      1     8.200000           10.60610  59.0435  10.739832       108   \n",
       "4      1     9.305237           11.46350  43.6957  12.522300        82   \n",
       "\n",
       "   casuales_raiz  casuales_box  casuales_log  casuales_min_max  \n",
       "0      18.193405     16.397820      5.802118          0.096538  \n",
       "1      11.445523     11.472437      4.875197          0.037852  \n",
       "2      10.954451     11.076035      4.787492          0.034624  \n",
       "3      10.392305     10.613970      4.682131          0.031103  \n",
       "4       9.055385      9.475537      4.406719          0.023474  "
      ]
     },
     "execution_count": 67,
     "metadata": {},
     "output_type": "execute_result"
    }
   ],
   "source": [
    "df['casuales_min_max'] = numericas_minmax\n",
    "df.head()"
   ]
  },
  {
   "cell_type": "code",
   "execution_count": 68,
   "metadata": {},
   "outputs": [
    {
     "data": {
      "image/png": "[encoded data removed]",
      "text/plain": [
       "<Figure size 1080x360 with 2 Axes>"
      ]
     },
     "metadata": {
      "needs_background": "light"
     },
     "output_type": "display_data"
    }
   ],
   "source": [
    "\n",
    "fig, axes = plt.subplots(1, 2, figsize = (15,5))\n",
    "\n",
    "axes[0].set_title('casuales original')\n",
    "axes[1].set_title('casuales_min_max')\n",
    "\n",
    "sns.distplot(df['casuales'] ,ax = axes[0])\n",
    "sns.distplot(df['casuales_min_max'], ax = axes[1]);"
   ]
  },
  {
   "cell_type": "code",
   "execution_count": 69,
   "metadata": {},
   "outputs": [
    {
     "data": {
      "text/plain": [
       "ShapiroResult(statistic=0.8850969076156616, pvalue=7.660317123860226e-23)"
      ]
     },
     "execution_count": 69,
     "metadata": {},
     "output_type": "execute_result"
    }
   ],
   "source": [
    "stats.shapiro(df[\"casuales_min_max\"])"
   ]
  },
  {
   "cell_type": "markdown",
   "metadata": {},
   "source": [
    "#### Conclusiones:\n",
    "\n",
    "Observamos que nuestro p_valor > 0.05 nuestros datos NO son normales. "
   ]
  },
  {
   "cell_type": "code",
   "execution_count": 71,
   "metadata": {},
   "outputs": [],
   "source": [
    "#Borramos las columnas que no necesitamos \n",
    "df.drop(['casuales_raiz','casuales_box', 'casuales_log', 'casuales_min_max'], axis=1, inplace=True )"
   ]
  },
  {
   "cell_type": "code",
   "execution_count": 73,
   "metadata": {},
   "outputs": [
    {
     "data": {
      "text/html": [
       "<div>\n",
       "<style scoped>\n",
       "    .dataframe tbody tr th:only-of-type {\n",
       "        vertical-align: middle;\n",
       "    }\n",
       "\n",
       "    .dataframe tbody tr th {\n",
       "        vertical-align: top;\n",
       "    }\n",
       "\n",
       "    .dataframe thead th {\n",
       "        text-align: right;\n",
       "    }\n",
       "</style>\n",
       "<table border=\"1\" class=\"dataframe\">\n",
       "  <thead>\n",
       "    <tr style=\"text-align: right;\">\n",
       "      <th></th>\n",
       "      <th>registro</th>\n",
       "      <th>fecha</th>\n",
       "      <th>estacion</th>\n",
       "      <th>año</th>\n",
       "      <th>mes</th>\n",
       "      <th>vacaciones</th>\n",
       "      <th>dia_semana</th>\n",
       "      <th>laborable</th>\n",
       "      <th>clima</th>\n",
       "      <th>temperatura</th>\n",
       "      <th>sensacion_termica</th>\n",
       "      <th>humedad</th>\n",
       "      <th>viento</th>\n",
       "      <th>casuales</th>\n",
       "    </tr>\n",
       "  </thead>\n",
       "  <tbody>\n",
       "    <tr>\n",
       "      <th>0</th>\n",
       "      <td>1</td>\n",
       "      <td>2018-01-01</td>\n",
       "      <td>winter</td>\n",
       "      <td>0</td>\n",
       "      <td>1</td>\n",
       "      <td>1</td>\n",
       "      <td>1</td>\n",
       "      <td>NO</td>\n",
       "      <td>2</td>\n",
       "      <td>14.110847</td>\n",
       "      <td>18.18125</td>\n",
       "      <td>80.5833</td>\n",
       "      <td>10.749882</td>\n",
       "      <td>331</td>\n",
       "    </tr>\n",
       "    <tr>\n",
       "      <th>1</th>\n",
       "      <td>2</td>\n",
       "      <td>2018-01-02</td>\n",
       "      <td>winter</td>\n",
       "      <td>0</td>\n",
       "      <td>1</td>\n",
       "      <td>0</td>\n",
       "      <td>2</td>\n",
       "      <td>SI</td>\n",
       "      <td>2</td>\n",
       "      <td>14.902598</td>\n",
       "      <td>17.68695</td>\n",
       "      <td>69.6087</td>\n",
       "      <td>16.652113</td>\n",
       "      <td>131</td>\n",
       "    </tr>\n",
       "  </tbody>\n",
       "</table>\n",
       "</div>"
      ],
      "text/plain": [
       "   registro       fecha estacion  año  mes vacaciones  dia_semana laborable  \\\n",
       "0         1  2018-01-01   winter    0    1          1           1        NO   \n",
       "1         2  2018-01-02   winter    0    1          0           2        SI   \n",
       "\n",
       "   clima  temperatura  sensacion_termica  humedad     viento  casuales  \n",
       "0      2    14.110847           18.18125  80.5833  10.749882       331  \n",
       "1      2    14.902598           17.68695  69.6087  16.652113       131  "
      ]
     },
     "execution_count": 73,
     "metadata": {},
     "output_type": "execute_result"
    }
   ],
   "source": [
    "df.head(2)"
   ]
  }
 ],
 "metadata": {
  "kernelspec": {
   "display_name": "Python 3.9.7 ('base')",
   "language": "python",
   "name": "python3"
  },
  "language_info": {
   "codemirror_mode": {
    "name": "ipython",
    "version": 3
   },
   "file_extension": ".py",
   "mimetype": "text/x-python",
   "name": "python",
   "nbconvert_exporter": "python",
   "pygments_lexer": "ipython3",
   "version": "3.9.7"
  },
  "orig_nbformat": 4,
  "vscode": {
   "interpreter": {
    "hash": "252c28c73334dc448966c55846d6aa799713735e1772b1237f15441ac08135d3"
   }
  }
 },
 "nbformat": 4,
 "nbformat_minor": 2
}
