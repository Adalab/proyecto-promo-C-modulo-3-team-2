{
 "cells": [
  {
   "cell_type": "code",
   "execution_count": 139,
   "metadata": {},
   "outputs": [],
   "source": [
    "import pandas as pd\n",
    "import numpy as np\n",
    "import matplotlib.pyplot as plt\n",
    "import seaborn as sns \n",
    "import warnings\n",
    "import calendar\n",
    "#import prophet\n",
    "from datetime import datetime\n",
    "\n",
    "warnings.filterwarnings(\"ignore\")\n",
    "pd.options.display.max_columns = None\n",
    "\n",
    "plt.rcParams[\"figure.figsize\"] = (10,8)"
   ]
  },
  {
   "cell_type": "code",
   "execution_count": 140,
   "metadata": {},
   "outputs": [],
   "source": [
    "df = pd.read_csv(\"data/bikes.csv\", index_col = 0 )"
   ]
  },
  {
   "cell_type": "code",
   "execution_count": 141,
   "metadata": {},
   "outputs": [
    {
     "name": "stdout",
     "output_type": "stream",
     "text": [
      "<class 'pandas.core.frame.DataFrame'>\n",
      "Int64Index: 730 entries, 0 to 729\n",
      "Data columns (total 16 columns):\n",
      " #   Column      Non-Null Count  Dtype  \n",
      "---  ------      --------------  -----  \n",
      " 0   instant     730 non-null    int64  \n",
      " 1   dteday      730 non-null    object \n",
      " 2   season      730 non-null    object \n",
      " 3   yr          730 non-null    int64  \n",
      " 4   mnth        730 non-null    int64  \n",
      " 5   holiday     730 non-null    int64  \n",
      " 6   weekday     730 non-null    int64  \n",
      " 7   workingday  730 non-null    int64  \n",
      " 8   weathersit  730 non-null    int64  \n",
      " 9   temp        730 non-null    float64\n",
      " 10  atemp       730 non-null    float64\n",
      " 11  hum         730 non-null    float64\n",
      " 12  windspeed   730 non-null    float64\n",
      " 13  casual      730 non-null    int64  \n",
      " 14  registered  730 non-null    int64  \n",
      " 15  cnt         730 non-null    int64  \n",
      "dtypes: float64(4), int64(10), object(2)\n",
      "memory usage: 97.0+ KB\n"
     ]
    }
   ],
   "source": [
    "df.info()"
   ]
  },
  {
   "cell_type": "code",
   "execution_count": 142,
   "metadata": {},
   "outputs": [
    {
     "data": {
      "text/html": [
       "<div>\n",
       "<style scoped>\n",
       "    .dataframe tbody tr th:only-of-type {\n",
       "        vertical-align: middle;\n",
       "    }\n",
       "\n",
       "    .dataframe tbody tr th {\n",
       "        vertical-align: top;\n",
       "    }\n",
       "\n",
       "    .dataframe thead th {\n",
       "        text-align: right;\n",
       "    }\n",
       "</style>\n",
       "<table border=\"1\" class=\"dataframe\">\n",
       "  <thead>\n",
       "    <tr style=\"text-align: right;\">\n",
       "      <th></th>\n",
       "      <th>instant</th>\n",
       "      <th>dteday</th>\n",
       "      <th>season</th>\n",
       "      <th>yr</th>\n",
       "      <th>mnth</th>\n",
       "      <th>holiday</th>\n",
       "      <th>weekday</th>\n",
       "      <th>workingday</th>\n",
       "      <th>weathersit</th>\n",
       "      <th>temp</th>\n",
       "      <th>atemp</th>\n",
       "      <th>hum</th>\n",
       "      <th>windspeed</th>\n",
       "      <th>casual</th>\n",
       "      <th>registered</th>\n",
       "      <th>cnt</th>\n",
       "    </tr>\n",
       "  </thead>\n",
       "  <tbody>\n",
       "    <tr>\n",
       "      <th>48</th>\n",
       "      <td>49</td>\n",
       "      <td>18-02-2018</td>\n",
       "      <td>spring</td>\n",
       "      <td>0</td>\n",
       "      <td>2</td>\n",
       "      <td>0</td>\n",
       "      <td>5</td>\n",
       "      <td>1</td>\n",
       "      <td>1</td>\n",
       "      <td>21.388347</td>\n",
       "      <td>25.59915</td>\n",
       "      <td>51.6667</td>\n",
       "      <td>17.749975</td>\n",
       "      <td>579</td>\n",
       "      <td>2348</td>\n",
       "      <td>2927</td>\n",
       "    </tr>\n",
       "    <tr>\n",
       "      <th>41</th>\n",
       "      <td>42</td>\n",
       "      <td>11-02-2018</td>\n",
       "      <td>spring</td>\n",
       "      <td>0</td>\n",
       "      <td>2</td>\n",
       "      <td>0</td>\n",
       "      <td>5</td>\n",
       "      <td>1</td>\n",
       "      <td>1</td>\n",
       "      <td>7.752731</td>\n",
       "      <td>10.67545</td>\n",
       "      <td>50.6364</td>\n",
       "      <td>7.272850</td>\n",
       "      <td>149</td>\n",
       "      <td>1597</td>\n",
       "      <td>1746</td>\n",
       "    </tr>\n",
       "    <tr>\n",
       "      <th>657</th>\n",
       "      <td>658</td>\n",
       "      <td>20-10-2019</td>\n",
       "      <td>winter</td>\n",
       "      <td>1</td>\n",
       "      <td>10</td>\n",
       "      <td>0</td>\n",
       "      <td>6</td>\n",
       "      <td>0</td>\n",
       "      <td>1</td>\n",
       "      <td>19.850847</td>\n",
       "      <td>23.64210</td>\n",
       "      <td>57.2917</td>\n",
       "      <td>7.874979</td>\n",
       "      <td>2806</td>\n",
       "      <td>5284</td>\n",
       "      <td>8090</td>\n",
       "    </tr>\n",
       "    <tr>\n",
       "      <th>519</th>\n",
       "      <td>520</td>\n",
       "      <td>04-06-2019</td>\n",
       "      <td>summer</td>\n",
       "      <td>1</td>\n",
       "      <td>6</td>\n",
       "      <td>0</td>\n",
       "      <td>1</td>\n",
       "      <td>1</td>\n",
       "      <td>1</td>\n",
       "      <td>24.497500</td>\n",
       "      <td>28.91415</td>\n",
       "      <td>48.7083</td>\n",
       "      <td>19.083811</td>\n",
       "      <td>1071</td>\n",
       "      <td>5927</td>\n",
       "      <td>6998</td>\n",
       "    </tr>\n",
       "    <tr>\n",
       "      <th>532</th>\n",
       "      <td>533</td>\n",
       "      <td>17-06-2019</td>\n",
       "      <td>summer</td>\n",
       "      <td>1</td>\n",
       "      <td>6</td>\n",
       "      <td>0</td>\n",
       "      <td>0</td>\n",
       "      <td>0</td>\n",
       "      <td>1</td>\n",
       "      <td>24.292500</td>\n",
       "      <td>28.59875</td>\n",
       "      <td>59.8750</td>\n",
       "      <td>9.708568</td>\n",
       "      <td>2634</td>\n",
       "      <td>4344</td>\n",
       "      <td>6978</td>\n",
       "    </tr>\n",
       "  </tbody>\n",
       "</table>\n",
       "</div>"
      ],
      "text/plain": [
       "     instant      dteday  season  yr  mnth  holiday  weekday  workingday  \\\n",
       "48        49  18-02-2018  spring   0     2        0        5           1   \n",
       "41        42  11-02-2018  spring   0     2        0        5           1   \n",
       "657      658  20-10-2019  winter   1    10        0        6           0   \n",
       "519      520  04-06-2019  summer   1     6        0        1           1   \n",
       "532      533  17-06-2019  summer   1     6        0        0           0   \n",
       "\n",
       "     weathersit       temp     atemp      hum  windspeed  casual  registered  \\\n",
       "48            1  21.388347  25.59915  51.6667  17.749975     579        2348   \n",
       "41            1   7.752731  10.67545  50.6364   7.272850     149        1597   \n",
       "657           1  19.850847  23.64210  57.2917   7.874979    2806        5284   \n",
       "519           1  24.497500  28.91415  48.7083  19.083811    1071        5927   \n",
       "532           1  24.292500  28.59875  59.8750   9.708568    2634        4344   \n",
       "\n",
       "      cnt  \n",
       "48   2927  \n",
       "41   1746  \n",
       "657  8090  \n",
       "519  6998  \n",
       "532  6978  "
      ]
     },
     "execution_count": 142,
     "metadata": {},
     "output_type": "execute_result"
    }
   ],
   "source": [
    "df.sample(5)"
   ]
  },
  {
   "attachments": {},
   "cell_type": "markdown",
   "metadata": {},
   "source": [
    "- 1. En la columna yr, el 0 hace referencia a 2018 y el 1 2019 ---> cambiar a 2018 y 2019\n",
    "- 2. Revisar estaciones segun meses - DONE  \n",
    "- 3. Los dias de la semana pasarlos a str (texto)\n",
    "- 4. Redondear temperaturas\n",
    "- 5. Cambiar dteday a tipo daytime - DONE \n",
    "- 6. Comprobar festivos - columna holiday - 16 días - DONE\n",
    "- 7. Los dias de la semana no corresponden con los que debieran ser - DONE\n",
    "- 9. Librería calendar - dia de la semana DONE.\n",
    "- 10. Chequear funcion seasons - DONE"
   ]
  },
  {
   "attachments": {},
   "cell_type": "markdown",
   "metadata": {},
   "source": [
    "Weathersit :\n",
    "- 1: Sol y nubes\n",
    "- 2: Niebla - nublado\n",
    "- 3: Regulinchi\n",
    "- 4: Tiempo chungo"
   ]
  },
  {
   "cell_type": "code",
   "execution_count": 143,
   "metadata": {},
   "outputs": [
    {
     "data": {
      "text/plain": [
       "0"
      ]
     },
     "execution_count": 143,
     "metadata": {},
     "output_type": "execute_result"
    }
   ],
   "source": [
    "df.duplicated().sum()"
   ]
  },
  {
   "cell_type": "code",
   "execution_count": 144,
   "metadata": {},
   "outputs": [
    {
     "data": {
      "text/plain": [
       "(730, 16)"
      ]
     },
     "execution_count": 144,
     "metadata": {},
     "output_type": "execute_result"
    }
   ],
   "source": [
    "df.shape"
   ]
  },
  {
   "attachments": {},
   "cell_type": "markdown",
   "metadata": {},
   "source": [
    "__________\n",
    "Reasignamos columna season"
   ]
  },
  {
   "cell_type": "code",
   "execution_count": 145,
   "metadata": {},
   "outputs": [],
   "source": [
    "#Cambiar columna 'dteday' a datatime\n",
    "\n",
    "df.dteday =pd.to_datetime(df.dteday, dayfirst=True)"
   ]
  },
  {
   "cell_type": "code",
   "execution_count": 146,
   "metadata": {},
   "outputs": [
    {
     "data": {
      "text/plain": [
       "array([ 1,  2,  3, 12])"
      ]
     },
     "execution_count": 146,
     "metadata": {},
     "output_type": "execute_result"
    }
   ],
   "source": [
    "primavera = df[df['season']=='spring'] #Primavera 20 marzo - 21 junio\n",
    "primavera['mnth'].unique()"
   ]
  },
  {
   "cell_type": "code",
   "execution_count": 147,
   "metadata": {},
   "outputs": [
    {
     "data": {
      "text/plain": [
       "array([ 9, 10, 11, 12])"
      ]
     },
     "execution_count": 147,
     "metadata": {},
     "output_type": "execute_result"
    }
   ],
   "source": [
    "invierno = df[df['season']=='winter'] # Invierno 21 de diciembre - 20 de marzo\n",
    "invierno['mnth'].unique()"
   ]
  },
  {
   "cell_type": "code",
   "execution_count": 148,
   "metadata": {},
   "outputs": [
    {
     "data": {
      "text/plain": [
       "array([3, 4, 5, 6])"
      ]
     },
     "execution_count": 148,
     "metadata": {},
     "output_type": "execute_result"
    }
   ],
   "source": [
    "#Verano 21 junio - 23 septiembre \n",
    "verano = df[df['season']=='summer'] \n",
    "verano['mnth'].unique()"
   ]
  },
  {
   "cell_type": "code",
   "execution_count": 149,
   "metadata": {},
   "outputs": [
    {
     "data": {
      "text/plain": [
       "array([6, 7, 8, 9])"
      ]
     },
     "execution_count": 149,
     "metadata": {},
     "output_type": "execute_result"
    }
   ],
   "source": [
    "#Otoño 23 septiembre - 21 de diciembre\n",
    "otoño = df[df['season']=='autumn'] \n",
    "otoño['mnth'].unique()"
   ]
  },
  {
   "cell_type": "code",
   "execution_count": 150,
   "metadata": {},
   "outputs": [],
   "source": [
    "mapa_estaciones ={\"spring\": \"winter\", \"winter\": \"autumn\", \"summer\":\"spring\", \"autumn\":\"summer\"}"
   ]
  },
  {
   "cell_type": "code",
   "execution_count": 151,
   "metadata": {},
   "outputs": [],
   "source": [
    "df[\"season\"] = df[\"season\"].map(mapa_estaciones)"
   ]
  },
  {
   "cell_type": "code",
   "execution_count": 152,
   "metadata": {},
   "outputs": [],
   "source": [
    "#Primavera 21 marzo - 20 junio\n",
    "#Verano 21 junio - 22 septiembre \n",
    "#Otoño 23 septiembre - 20 de diciembre\n",
    "#Invierno 21 de diciembre - 20 de marzo"
   ]
  },
  {
   "attachments": {},
   "cell_type": "markdown",
   "metadata": {},
   "source": [
    "_________________"
   ]
  },
  {
   "attachments": {},
   "cell_type": "markdown",
   "metadata": {},
   "source": [
    "Ajustamos los días de la semana"
   ]
  },
  {
   "cell_type": "code",
   "execution_count": 153,
   "metadata": {},
   "outputs": [],
   "source": [
    "def dia_semana(col):\n",
    "    return col.isoweekday()"
   ]
  },
  {
   "cell_type": "code",
   "execution_count": 154,
   "metadata": {},
   "outputs": [],
   "source": [
    "df[\"weekday\"]= df[\"dteday\"].apply(dia_semana)"
   ]
  },
  {
   "attachments": {},
   "cell_type": "markdown",
   "metadata": {},
   "source": [
    "__________\n"
   ]
  },
  {
   "cell_type": "code",
   "execution_count": 155,
   "metadata": {},
   "outputs": [
    {
     "data": {
      "text/plain": [
       "1    499\n",
       "0    231\n",
       "Name: workingday, dtype: int64"
      ]
     },
     "execution_count": 155,
     "metadata": {},
     "output_type": "execute_result"
    }
   ],
   "source": [
    "df.workingday.value_counts()"
   ]
  },
  {
   "cell_type": "code",
   "execution_count": 156,
   "metadata": {},
   "outputs": [
    {
     "data": {
      "text/plain": [
       "0    709\n",
       "1     21\n",
       "Name: holiday, dtype: int64"
      ]
     },
     "execution_count": 156,
     "metadata": {},
     "output_type": "execute_result"
    }
   ],
   "source": [
    "df.holiday.value_counts()"
   ]
  },
  {
   "cell_type": "code",
   "execution_count": 157,
   "metadata": {},
   "outputs": [],
   "source": [
    "#festivos_18 = [\"2018-01-01\",\"2018-01-16\", \"2018-02-13\", \"2018-02-20\", \"2018-03-31\", \"2018-05-29\", \"2018-07-04\", \"2018-07-05\", \"2018-07-28\" , \"2018-09-04\", \"2018-10-23\", \"2018-10-24\", \"2018-12-24\", \"2018-12-25\", \"2018-12-31\"]\n",
    "#festivos_19 = [\"2019-01-01\",\"2019-01-16\", \"2019-02-13\", \"2019-02-20\", \"2019-03-31\", \"2019-05-29\", \"2019-07-04\", \"2019-07-05\", \"2019-07-28\" , \"2019-09-04\", \"2019-10-23\", \"2019-10-24\", \"2019-12-24\", \"2019-12-25\", \"2019-12-31\"]"
   ]
  },
  {
   "cell_type": "code",
   "execution_count": 158,
   "metadata": {},
   "outputs": [],
   "source": [
    "#df[\"holiday\"] = df[\"dteday\"].isin([\"2018-01-01\",\"2018-01-16\", \"2018-02-13\", \"2018-02-20\", \"2018-03-31\", \"2018-05-29\", \"2018-07-04\", \"2018-07-05\", \"2018-07-28\" , \"2018-09-04\", \"2018-10-23\", \"2018-10-24\", \"2018-12-24\", \"2018-12-25\", \"2018-12-31\",\"2019-01-01\",\"2019-01-16\", \"2019-02-13\", \"2019-02-20\", \"2019-03-31\", \"2019-05-29\", \"2019-07-04\", \"2019-07-05\", \"2019-07-28\" , \"2019-09-04\", \"2019-10-23\", \"2019-10-24\", \"2019-12-24\", \"2019-12-25\", \"2019-12-31\"])\n",
    "#df.sample(3)"
   ]
  },
  {
   "cell_type": "code",
   "execution_count": 159,
   "metadata": {},
   "outputs": [],
   "source": [
    "#df.loc[df['holiday'] == False, 'holiday'] = 0\n",
    "#df.loc[df['holiday'] == True, 'holiday'] = 1\n"
   ]
  },
  {
   "cell_type": "code",
   "execution_count": 160,
   "metadata": {},
   "outputs": [
    {
     "data": {
      "text/html": [
       "<div>\n",
       "<style scoped>\n",
       "    .dataframe tbody tr th:only-of-type {\n",
       "        vertical-align: middle;\n",
       "    }\n",
       "\n",
       "    .dataframe tbody tr th {\n",
       "        vertical-align: top;\n",
       "    }\n",
       "\n",
       "    .dataframe thead th {\n",
       "        text-align: right;\n",
       "    }\n",
       "</style>\n",
       "<table border=\"1\" class=\"dataframe\">\n",
       "  <thead>\n",
       "    <tr style=\"text-align: right;\">\n",
       "      <th></th>\n",
       "      <th>instant</th>\n",
       "      <th>dteday</th>\n",
       "      <th>season</th>\n",
       "      <th>yr</th>\n",
       "      <th>mnth</th>\n",
       "      <th>holiday</th>\n",
       "      <th>weekday</th>\n",
       "      <th>workingday</th>\n",
       "      <th>weathersit</th>\n",
       "      <th>temp</th>\n",
       "      <th>atemp</th>\n",
       "      <th>hum</th>\n",
       "      <th>windspeed</th>\n",
       "      <th>casual</th>\n",
       "      <th>registered</th>\n",
       "      <th>cnt</th>\n",
       "    </tr>\n",
       "  </thead>\n",
       "  <tbody>\n",
       "    <tr>\n",
       "      <th>222</th>\n",
       "      <td>223</td>\n",
       "      <td>2018-08-11</td>\n",
       "      <td>summer</td>\n",
       "      <td>0</td>\n",
       "      <td>8</td>\n",
       "      <td>0</td>\n",
       "      <td>6</td>\n",
       "      <td>1</td>\n",
       "      <td>1</td>\n",
       "      <td>29.417500</td>\n",
       "      <td>32.57605</td>\n",
       "      <td>42.3750</td>\n",
       "      <td>11.041332</td>\n",
       "      <td>812</td>\n",
       "      <td>3980</td>\n",
       "      <td>4792</td>\n",
       "    </tr>\n",
       "    <tr>\n",
       "      <th>15</th>\n",
       "      <td>16</td>\n",
       "      <td>2018-01-16</td>\n",
       "      <td>winter</td>\n",
       "      <td>0</td>\n",
       "      <td>1</td>\n",
       "      <td>0</td>\n",
       "      <td>2</td>\n",
       "      <td>0</td>\n",
       "      <td>1</td>\n",
       "      <td>9.498347</td>\n",
       "      <td>11.71085</td>\n",
       "      <td>48.3750</td>\n",
       "      <td>12.625011</td>\n",
       "      <td>251</td>\n",
       "      <td>953</td>\n",
       "      <td>1204</td>\n",
       "    </tr>\n",
       "    <tr>\n",
       "      <th>651</th>\n",
       "      <td>652</td>\n",
       "      <td>2019-10-14</td>\n",
       "      <td>autumn</td>\n",
       "      <td>1</td>\n",
       "      <td>10</td>\n",
       "      <td>0</td>\n",
       "      <td>1</td>\n",
       "      <td>0</td>\n",
       "      <td>1</td>\n",
       "      <td>21.388347</td>\n",
       "      <td>25.41020</td>\n",
       "      <td>64.0417</td>\n",
       "      <td>18.667004</td>\n",
       "      <td>2080</td>\n",
       "      <td>4559</td>\n",
       "      <td>6639</td>\n",
       "    </tr>\n",
       "  </tbody>\n",
       "</table>\n",
       "</div>"
      ],
      "text/plain": [
       "     instant     dteday  season  yr  mnth  holiday  weekday  workingday  \\\n",
       "222      223 2018-08-11  summer   0     8        0        6           1   \n",
       "15        16 2018-01-16  winter   0     1        0        2           0   \n",
       "651      652 2019-10-14  autumn   1    10        0        1           0   \n",
       "\n",
       "     weathersit       temp     atemp      hum  windspeed  casual  registered  \\\n",
       "222           1  29.417500  32.57605  42.3750  11.041332     812        3980   \n",
       "15            1   9.498347  11.71085  48.3750  12.625011     251         953   \n",
       "651           1  21.388347  25.41020  64.0417  18.667004    2080        4559   \n",
       "\n",
       "      cnt  \n",
       "222  4792  \n",
       "15   1204  \n",
       "651  6639  "
      ]
     },
     "execution_count": 160,
     "metadata": {},
     "output_type": "execute_result"
    }
   ],
   "source": [
    "df.sample(3)"
   ]
  },
  {
   "cell_type": "code",
   "execution_count": 161,
   "metadata": {},
   "outputs": [
    {
     "data": {
      "text/plain": [
       "array([0, 1])"
      ]
     },
     "execution_count": 161,
     "metadata": {},
     "output_type": "execute_result"
    }
   ],
   "source": [
    "df.holiday.unique()"
   ]
  },
  {
   "cell_type": "code",
   "execution_count": 162,
   "metadata": {},
   "outputs": [],
   "source": [
    "#Sacamos ls festivos con la libreria \n",
    "from datetime import date\n",
    "import holidays\n",
    "  \n",
    "us_holidays = holidays.US()\n",
    "festivos_nuevo = []\n",
    "for i in holidays.US(years = [2018, 2019], state = 'WA').items():\n",
    "    festivos_nuevo.append(i)\n"
   ]
  },
  {
   "cell_type": "code",
   "execution_count": 163,
   "metadata": {},
   "outputs": [],
   "source": [
    "#Creamos una lista con los festivos que faltan de la lista proporcionada por la empresa \n",
    "festivos_añadir = ['2018-02-13', '2018-03-31', '2018-07-05', '2018-07-28', '2018-11-24', '2018-12-24','2018-12-31', '2019-11-29', '2019-02-13' , '2019-03-31', '2019-07-05'\n",
    ",'2019-07-28' , '2019-12-24' , '2019-12-31']"
   ]
  },
  {
   "cell_type": "code",
   "execution_count": 164,
   "metadata": {},
   "outputs": [],
   "source": [
    "#Apendeamos la lista\n",
    "in_holidays = holidays.HolidayBase()\n",
    "in_holidays.append(festivos_añadir)"
   ]
  },
  {
   "cell_type": "code",
   "execution_count": 165,
   "metadata": {},
   "outputs": [],
   "source": [
    "#Convertimos a diccionario para poder añadirlo a las vacaciones que teniamos \n",
    "dict_holidays = dict(festivos_nuevo)"
   ]
  },
  {
   "cell_type": "code",
   "execution_count": 166,
   "metadata": {},
   "outputs": [],
   "source": [
    "in_holidays.update(dict_holidays)"
   ]
  },
  {
   "cell_type": "code",
   "execution_count": 167,
   "metadata": {},
   "outputs": [],
   "source": [
    "lista_festivos = list(in_holidays.keys())\n"
   ]
  },
  {
   "cell_type": "code",
   "execution_count": 168,
   "metadata": {},
   "outputs": [
    {
     "data": {
      "text/plain": [
       "35"
      ]
     },
     "execution_count": 168,
     "metadata": {},
     "output_type": "execute_result"
    }
   ],
   "source": [
    "len(lista_festivos)"
   ]
  },
  {
   "cell_type": "code",
   "execution_count": 169,
   "metadata": {},
   "outputs": [
    {
     "name": "stdout",
     "output_type": "stream",
     "text": [
      "[datetime.date(2018, 2, 13), datetime.date(2018, 3, 31), datetime.date(2018, 7, 5), datetime.date(2018, 7, 28), datetime.date(2018, 11, 24), datetime.date(2018, 12, 24), datetime.date(2018, 12, 31), datetime.date(2019, 11, 29), datetime.date(2019, 2, 13), datetime.date(2019, 3, 31), datetime.date(2019, 7, 5), datetime.date(2019, 7, 28), datetime.date(2019, 12, 24), datetime.date(2019, 12, 31), datetime.date(2018, 1, 1), datetime.date(2018, 1, 15), datetime.date(2018, 2, 19), datetime.date(2018, 5, 28), datetime.date(2018, 7, 4), datetime.date(2018, 9, 3), datetime.date(2018, 10, 8), datetime.date(2018, 11, 11), datetime.date(2018, 11, 12), datetime.date(2018, 11, 22), datetime.date(2018, 12, 25), datetime.date(2019, 1, 1), datetime.date(2019, 1, 21), datetime.date(2019, 2, 18), datetime.date(2019, 5, 27), datetime.date(2019, 7, 4), datetime.date(2019, 9, 2), datetime.date(2019, 10, 14), datetime.date(2019, 11, 11), datetime.date(2019, 11, 28), datetime.date(2019, 12, 25)]\n"
     ]
    }
   ],
   "source": [
    "print(lista_festivos)"
   ]
  },
  {
   "cell_type": "code",
   "execution_count": 170,
   "metadata": {},
   "outputs": [
    {
     "data": {
      "text/html": [
       "<div>\n",
       "<style scoped>\n",
       "    .dataframe tbody tr th:only-of-type {\n",
       "        vertical-align: middle;\n",
       "    }\n",
       "\n",
       "    .dataframe tbody tr th {\n",
       "        vertical-align: top;\n",
       "    }\n",
       "\n",
       "    .dataframe thead th {\n",
       "        text-align: right;\n",
       "    }\n",
       "</style>\n",
       "<table border=\"1\" class=\"dataframe\">\n",
       "  <thead>\n",
       "    <tr style=\"text-align: right;\">\n",
       "      <th></th>\n",
       "      <th>instant</th>\n",
       "      <th>dteday</th>\n",
       "      <th>season</th>\n",
       "      <th>yr</th>\n",
       "      <th>mnth</th>\n",
       "      <th>holiday</th>\n",
       "      <th>weekday</th>\n",
       "      <th>workingday</th>\n",
       "      <th>weathersit</th>\n",
       "      <th>temp</th>\n",
       "      <th>atemp</th>\n",
       "      <th>hum</th>\n",
       "      <th>windspeed</th>\n",
       "      <th>casual</th>\n",
       "      <th>registered</th>\n",
       "      <th>cnt</th>\n",
       "    </tr>\n",
       "  </thead>\n",
       "  <tbody>\n",
       "    <tr>\n",
       "      <th>172</th>\n",
       "      <td>173</td>\n",
       "      <td>2018-06-22</td>\n",
       "      <td>summer</td>\n",
       "      <td>0</td>\n",
       "      <td>6</td>\n",
       "      <td>False</td>\n",
       "      <td>5</td>\n",
       "      <td>1</td>\n",
       "      <td>1</td>\n",
       "      <td>30.066653</td>\n",
       "      <td>34.69145</td>\n",
       "      <td>70.7500</td>\n",
       "      <td>11.541554</td>\n",
       "      <td>661</td>\n",
       "      <td>3846</td>\n",
       "      <td>4507</td>\n",
       "    </tr>\n",
       "    <tr>\n",
       "      <th>454</th>\n",
       "      <td>455</td>\n",
       "      <td>2019-03-31</td>\n",
       "      <td>spring</td>\n",
       "      <td>1</td>\n",
       "      <td>3</td>\n",
       "      <td>True</td>\n",
       "      <td>7</td>\n",
       "      <td>0</td>\n",
       "      <td>2</td>\n",
       "      <td>17.390847</td>\n",
       "      <td>21.08540</td>\n",
       "      <td>73.8333</td>\n",
       "      <td>16.791339</td>\n",
       "      <td>2301</td>\n",
       "      <td>3934</td>\n",
       "      <td>6235</td>\n",
       "    </tr>\n",
       "    <tr>\n",
       "      <th>724</th>\n",
       "      <td>725</td>\n",
       "      <td>2019-12-26</td>\n",
       "      <td>winter</td>\n",
       "      <td>1</td>\n",
       "      <td>12</td>\n",
       "      <td>False</td>\n",
       "      <td>4</td>\n",
       "      <td>1</td>\n",
       "      <td>3</td>\n",
       "      <td>9.976653</td>\n",
       "      <td>11.01665</td>\n",
       "      <td>82.3333</td>\n",
       "      <td>21.208582</td>\n",
       "      <td>9</td>\n",
       "      <td>432</td>\n",
       "      <td>441</td>\n",
       "    </tr>\n",
       "  </tbody>\n",
       "</table>\n",
       "</div>"
      ],
      "text/plain": [
       "     instant     dteday  season  yr  mnth  holiday  weekday  workingday  \\\n",
       "172      173 2018-06-22  summer   0     6    False        5           1   \n",
       "454      455 2019-03-31  spring   1     3     True        7           0   \n",
       "724      725 2019-12-26  winter   1    12    False        4           1   \n",
       "\n",
       "     weathersit       temp     atemp      hum  windspeed  casual  registered  \\\n",
       "172           1  30.066653  34.69145  70.7500  11.541554     661        3846   \n",
       "454           2  17.390847  21.08540  73.8333  16.791339    2301        3934   \n",
       "724           3   9.976653  11.01665  82.3333  21.208582       9         432   \n",
       "\n",
       "      cnt  \n",
       "172  4507  \n",
       "454  6235  \n",
       "724   441  "
      ]
     },
     "execution_count": 170,
     "metadata": {},
     "output_type": "execute_result"
    }
   ],
   "source": [
    "df[\"holiday\"] = df[\"dteday\"].isin(lista_festivos)\n",
    "df.sample(3)"
   ]
  },
  {
   "cell_type": "code",
   "execution_count": 171,
   "metadata": {},
   "outputs": [],
   "source": [
    "df.loc[df['holiday'] == False, 'holiday'] = 0\n",
    "df.loc[df['holiday'] == True, 'holiday'] = 1"
   ]
  },
  {
   "cell_type": "code",
   "execution_count": 172,
   "metadata": {},
   "outputs": [
    {
     "data": {
      "text/plain": [
       "0    695\n",
       "1     35\n",
       "Name: holiday, dtype: int64"
      ]
     },
     "execution_count": 172,
     "metadata": {},
     "output_type": "execute_result"
    }
   ],
   "source": [
    "df.holiday.value_counts()"
   ]
  },
  {
   "cell_type": "code",
   "execution_count": 173,
   "metadata": {},
   "outputs": [
    {
     "data": {
      "text/html": [
       "<div>\n",
       "<style scoped>\n",
       "    .dataframe tbody tr th:only-of-type {\n",
       "        vertical-align: middle;\n",
       "    }\n",
       "\n",
       "    .dataframe tbody tr th {\n",
       "        vertical-align: top;\n",
       "    }\n",
       "\n",
       "    .dataframe thead th {\n",
       "        text-align: right;\n",
       "    }\n",
       "</style>\n",
       "<table border=\"1\" class=\"dataframe\">\n",
       "  <thead>\n",
       "    <tr style=\"text-align: right;\">\n",
       "      <th></th>\n",
       "      <th>instant</th>\n",
       "      <th>dteday</th>\n",
       "      <th>season</th>\n",
       "      <th>yr</th>\n",
       "      <th>mnth</th>\n",
       "      <th>holiday</th>\n",
       "      <th>weekday</th>\n",
       "      <th>workingday</th>\n",
       "      <th>weathersit</th>\n",
       "      <th>temp</th>\n",
       "      <th>atemp</th>\n",
       "      <th>hum</th>\n",
       "      <th>windspeed</th>\n",
       "      <th>casual</th>\n",
       "      <th>registered</th>\n",
       "      <th>cnt</th>\n",
       "    </tr>\n",
       "  </thead>\n",
       "  <tbody>\n",
       "    <tr>\n",
       "      <th>342</th>\n",
       "      <td>343</td>\n",
       "      <td>2018-12-09</td>\n",
       "      <td>autumn</td>\n",
       "      <td>0</td>\n",
       "      <td>12</td>\n",
       "      <td>0</td>\n",
       "      <td>7</td>\n",
       "      <td>1</td>\n",
       "      <td>1</td>\n",
       "      <td>11.924153</td>\n",
       "      <td>15.8771</td>\n",
       "      <td>69.5833</td>\n",
       "      <td>5.542019</td>\n",
       "      <td>261</td>\n",
       "      <td>3359</td>\n",
       "      <td>3620</td>\n",
       "    </tr>\n",
       "    <tr>\n",
       "      <th>299</th>\n",
       "      <td>300</td>\n",
       "      <td>2018-10-27</td>\n",
       "      <td>autumn</td>\n",
       "      <td>0</td>\n",
       "      <td>10</td>\n",
       "      <td>0</td>\n",
       "      <td>6</td>\n",
       "      <td>1</td>\n",
       "      <td>2</td>\n",
       "      <td>19.270000</td>\n",
       "      <td>22.8523</td>\n",
       "      <td>81.2917</td>\n",
       "      <td>13.250121</td>\n",
       "      <td>240</td>\n",
       "      <td>2419</td>\n",
       "      <td>2659</td>\n",
       "    </tr>\n",
       "    <tr>\n",
       "      <th>409</th>\n",
       "      <td>410</td>\n",
       "      <td>2019-02-14</td>\n",
       "      <td>winter</td>\n",
       "      <td>1</td>\n",
       "      <td>2</td>\n",
       "      <td>0</td>\n",
       "      <td>4</td>\n",
       "      <td>1</td>\n",
       "      <td>2</td>\n",
       "      <td>13.085847</td>\n",
       "      <td>16.6973</td>\n",
       "      <td>50.8750</td>\n",
       "      <td>9.458993</td>\n",
       "      <td>135</td>\n",
       "      <td>3787</td>\n",
       "      <td>3922</td>\n",
       "    </tr>\n",
       "    <tr>\n",
       "      <th>716</th>\n",
       "      <td>717</td>\n",
       "      <td>2019-12-18</td>\n",
       "      <td>autumn</td>\n",
       "      <td>1</td>\n",
       "      <td>12</td>\n",
       "      <td>0</td>\n",
       "      <td>3</td>\n",
       "      <td>1</td>\n",
       "      <td>1</td>\n",
       "      <td>16.844153</td>\n",
       "      <td>20.4854</td>\n",
       "      <td>66.6250</td>\n",
       "      <td>14.834068</td>\n",
       "      <td>433</td>\n",
       "      <td>5124</td>\n",
       "      <td>5557</td>\n",
       "    </tr>\n",
       "    <tr>\n",
       "      <th>414</th>\n",
       "      <td>415</td>\n",
       "      <td>2019-02-19</td>\n",
       "      <td>winter</td>\n",
       "      <td>1</td>\n",
       "      <td>2</td>\n",
       "      <td>0</td>\n",
       "      <td>2</td>\n",
       "      <td>0</td>\n",
       "      <td>2</td>\n",
       "      <td>11.480000</td>\n",
       "      <td>13.2894</td>\n",
       "      <td>51.5833</td>\n",
       "      <td>16.958504</td>\n",
       "      <td>618</td>\n",
       "      <td>2071</td>\n",
       "      <td>2689</td>\n",
       "    </tr>\n",
       "  </tbody>\n",
       "</table>\n",
       "</div>"
      ],
      "text/plain": [
       "     instant     dteday  season  yr  mnth holiday  weekday  workingday  \\\n",
       "342      343 2018-12-09  autumn   0    12       0        7           1   \n",
       "299      300 2018-10-27  autumn   0    10       0        6           1   \n",
       "409      410 2019-02-14  winter   1     2       0        4           1   \n",
       "716      717 2019-12-18  autumn   1    12       0        3           1   \n",
       "414      415 2019-02-19  winter   1     2       0        2           0   \n",
       "\n",
       "     weathersit       temp    atemp      hum  windspeed  casual  registered  \\\n",
       "342           1  11.924153  15.8771  69.5833   5.542019     261        3359   \n",
       "299           2  19.270000  22.8523  81.2917  13.250121     240        2419   \n",
       "409           2  13.085847  16.6973  50.8750   9.458993     135        3787   \n",
       "716           1  16.844153  20.4854  66.6250  14.834068     433        5124   \n",
       "414           2  11.480000  13.2894  51.5833  16.958504     618        2071   \n",
       "\n",
       "      cnt  \n",
       "342  3620  \n",
       "299  2659  \n",
       "409  3922  \n",
       "716  5557  \n",
       "414  2689  "
      ]
     },
     "execution_count": 173,
     "metadata": {},
     "output_type": "execute_result"
    }
   ],
   "source": [
    "df.sample(5)"
   ]
  },
  {
   "attachments": {},
   "cell_type": "markdown",
   "metadata": {},
   "source": [
    "\n",
    "---\n"
   ]
  },
  {
   "cell_type": "code",
   "execution_count": 175,
   "metadata": {},
   "outputs": [],
   "source": [
    "def workingday (col_holiday, col_weekday):\n",
    "    if col_holiday == 1:\n",
    "        return 'NO'\n",
    "    elif col_weekday == 6 or col_weekday == 7:\n",
    "        return 'NO'\n",
    "    else:\n",
    "        return 'SI'"
   ]
  },
  {
   "cell_type": "code",
   "execution_count": 176,
   "metadata": {},
   "outputs": [],
   "source": [
    "df['workingday'] = df.apply(lambda brocoli: workingday(brocoli['holiday'], brocoli['weekday']), axis = 1)"
   ]
  },
  {
   "cell_type": "code",
   "execution_count": 179,
   "metadata": {},
   "outputs": [],
   "source": [
    "df.to_csv('data/01_bikes_limpieza.csv')"
   ]
  },
  {
   "cell_type": "code",
   "execution_count": 178,
   "metadata": {},
   "outputs": [
    {
     "data": {
      "image/png": "[encoded data removed]",
      "text/plain": [
       "<Figure size 1000x800 with 2 Axes>"
      ]
     },
     "metadata": {},
     "output_type": "display_data"
    }
   ],
   "source": [
    "sns.heatmap(df.corr(), \n",
    "            cmap = \"YlGnBu\", \n",
    "           annot = True);"
   ]
  },
  {
   "cell_type": "code",
   "execution_count": null,
   "metadata": {},
   "outputs": [
    {
     "name": "stdout",
     "output_type": "stream",
     "text": [
      "<class 'pandas.core.frame.DataFrame'>\n",
      "Int64Index: 730 entries, 0 to 729\n",
      "Data columns (total 16 columns):\n",
      " #   Column      Non-Null Count  Dtype         \n",
      "---  ------      --------------  -----         \n",
      " 0   instant     730 non-null    int64         \n",
      " 1   dteday      730 non-null    datetime64[ns]\n",
      " 2   season      730 non-null    object        \n",
      " 3   yr          730 non-null    int64         \n",
      " 4   mnth        730 non-null    int64         \n",
      " 5   holiday     730 non-null    object        \n",
      " 6   weekday     730 non-null    int64         \n",
      " 7   workingday  730 non-null    int64         \n",
      " 8   weathersit  730 non-null    int64         \n",
      " 9   temp        730 non-null    float64       \n",
      " 10  atemp       730 non-null    float64       \n",
      " 11  hum         730 non-null    float64       \n",
      " 12  windspeed   730 non-null    float64       \n",
      " 13  casual      730 non-null    int64         \n",
      " 14  registered  730 non-null    int64         \n",
      " 15  cnt         730 non-null    int64         \n",
      "dtypes: datetime64[ns](1), float64(4), int64(9), object(2)\n",
      "memory usage: 97.0+ KB\n"
     ]
    }
   ],
   "source": [
    "df.info()"
   ]
  }
 ],
 "metadata": {
  "kernelspec": {
   "display_name": "base",
   "language": "python",
   "name": "python3"
  },
  "language_info": {
   "codemirror_mode": {
    "name": "ipython",
    "version": 3
   },
   "file_extension": ".py",
   "mimetype": "text/x-python",
   "name": "python",
   "nbconvert_exporter": "python",
   "pygments_lexer": "ipython3",
   "version": "3.9.13 | packaged by conda-forge | (main, May 27 2022, 16:56:21) \n[GCC 10.3.0]"
  },
  "orig_nbformat": 4,
  "vscode": {
   "interpreter": {
    "hash": "85c042135e83639dad74b6ec6c9d943b5dc47ca281624d931a3e14168052f53c"
   }
  }
 },
 "nbformat": 4,
 "nbformat_minor": 2
}
