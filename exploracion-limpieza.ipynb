{
 "cells": [
  {
   "cell_type": "code",
   "execution_count": 56,
   "metadata": {},
   "outputs": [],
   "source": [
    "import pandas as pd\n",
    "import numpy as np\n",
    "import matplotlib.pyplot as plt\n",
    "import seaborn as sns \n",
    "import warnings\n",
    "import calendar\n",
    "#import prophet\n",
    "from datetime import datetime\n",
    "import holidays\n",
    "\n",
    "\n",
    "warnings.filterwarnings(\"ignore\")\n",
    "pd.options.display.max_columns = None\n",
    "\n",
    "plt.rcParams[\"figure.figsize\"] = (10,8)"
   ]
  },
  {
   "cell_type": "code",
   "execution_count": 57,
   "metadata": {},
   "outputs": [],
   "source": [
    "df = pd.read_csv(\"data/bikes.csv\", index_col = 0 )"
   ]
  },
  {
   "cell_type": "code",
   "execution_count": 58,
   "metadata": {},
   "outputs": [
    {
     "name": "stdout",
     "output_type": "stream",
     "text": [
      "<class 'pandas.core.frame.DataFrame'>\n",
      "Int64Index: 730 entries, 0 to 729\n",
      "Data columns (total 16 columns):\n",
      " #   Column      Non-Null Count  Dtype  \n",
      "---  ------      --------------  -----  \n",
      " 0   instant     730 non-null    int64  \n",
      " 1   dteday      730 non-null    object \n",
      " 2   season      730 non-null    object \n",
      " 3   yr          730 non-null    int64  \n",
      " 4   mnth        730 non-null    int64  \n",
      " 5   holiday     730 non-null    int64  \n",
      " 6   weekday     730 non-null    int64  \n",
      " 7   workingday  730 non-null    int64  \n",
      " 8   weathersit  730 non-null    int64  \n",
      " 9   temp        730 non-null    float64\n",
      " 10  atemp       730 non-null    float64\n",
      " 11  hum         730 non-null    float64\n",
      " 12  windspeed   730 non-null    float64\n",
      " 13  casual      730 non-null    int64  \n",
      " 14  registered  730 non-null    int64  \n",
      " 15  cnt         730 non-null    int64  \n",
      "dtypes: float64(4), int64(10), object(2)\n",
      "memory usage: 97.0+ KB\n"
     ]
    }
   ],
   "source": [
    "df.info()"
   ]
  },
  {
   "cell_type": "code",
   "execution_count": 59,
   "metadata": {},
   "outputs": [
    {
     "data": {
      "text/html": [
       "<div>\n",
       "<style scoped>\n",
       "    .dataframe tbody tr th:only-of-type {\n",
       "        vertical-align: middle;\n",
       "    }\n",
       "\n",
       "    .dataframe tbody tr th {\n",
       "        vertical-align: top;\n",
       "    }\n",
       "\n",
       "    .dataframe thead th {\n",
       "        text-align: right;\n",
       "    }\n",
       "</style>\n",
       "<table border=\"1\" class=\"dataframe\">\n",
       "  <thead>\n",
       "    <tr style=\"text-align: right;\">\n",
       "      <th></th>\n",
       "      <th>instant</th>\n",
       "      <th>dteday</th>\n",
       "      <th>season</th>\n",
       "      <th>yr</th>\n",
       "      <th>mnth</th>\n",
       "      <th>holiday</th>\n",
       "      <th>weekday</th>\n",
       "      <th>workingday</th>\n",
       "      <th>weathersit</th>\n",
       "      <th>temp</th>\n",
       "      <th>atemp</th>\n",
       "      <th>hum</th>\n",
       "      <th>windspeed</th>\n",
       "      <th>casual</th>\n",
       "      <th>registered</th>\n",
       "      <th>cnt</th>\n",
       "    </tr>\n",
       "  </thead>\n",
       "  <tbody>\n",
       "    <tr>\n",
       "      <th>708</th>\n",
       "      <td>709</td>\n",
       "      <td>10-12-2019</td>\n",
       "      <td>winter</td>\n",
       "      <td>1</td>\n",
       "      <td>12</td>\n",
       "      <td>0</td>\n",
       "      <td>1</td>\n",
       "      <td>1</td>\n",
       "      <td>2</td>\n",
       "      <td>17.869153</td>\n",
       "      <td>21.77875</td>\n",
       "      <td>92.5000</td>\n",
       "      <td>12.750636</td>\n",
       "      <td>329</td>\n",
       "      <td>4841</td>\n",
       "      <td>5170</td>\n",
       "    </tr>\n",
       "    <tr>\n",
       "      <th>650</th>\n",
       "      <td>651</td>\n",
       "      <td>13-10-2019</td>\n",
       "      <td>winter</td>\n",
       "      <td>1</td>\n",
       "      <td>10</td>\n",
       "      <td>0</td>\n",
       "      <td>6</td>\n",
       "      <td>0</td>\n",
       "      <td>1</td>\n",
       "      <td>16.126653</td>\n",
       "      <td>19.56980</td>\n",
       "      <td>49.4583</td>\n",
       "      <td>9.791514</td>\n",
       "      <td>2252</td>\n",
       "      <td>4857</td>\n",
       "      <td>7109</td>\n",
       "    </tr>\n",
       "    <tr>\n",
       "      <th>695</th>\n",
       "      <td>696</td>\n",
       "      <td>27-11-2019</td>\n",
       "      <td>winter</td>\n",
       "      <td>1</td>\n",
       "      <td>11</td>\n",
       "      <td>0</td>\n",
       "      <td>2</td>\n",
       "      <td>1</td>\n",
       "      <td>2</td>\n",
       "      <td>11.958347</td>\n",
       "      <td>14.07790</td>\n",
       "      <td>78.6667</td>\n",
       "      <td>15.916654</td>\n",
       "      <td>123</td>\n",
       "      <td>3836</td>\n",
       "      <td>3959</td>\n",
       "    </tr>\n",
       "    <tr>\n",
       "      <th>406</th>\n",
       "      <td>407</td>\n",
       "      <td>11-02-2019</td>\n",
       "      <td>spring</td>\n",
       "      <td>1</td>\n",
       "      <td>2</td>\n",
       "      <td>0</td>\n",
       "      <td>6</td>\n",
       "      <td>0</td>\n",
       "      <td>3</td>\n",
       "      <td>9.190847</td>\n",
       "      <td>10.54335</td>\n",
       "      <td>73.1250</td>\n",
       "      <td>19.416332</td>\n",
       "      <td>192</td>\n",
       "      <td>1977</td>\n",
       "      <td>2169</td>\n",
       "    </tr>\n",
       "    <tr>\n",
       "      <th>592</th>\n",
       "      <td>593</td>\n",
       "      <td>16-08-2019</td>\n",
       "      <td>autumn</td>\n",
       "      <td>1</td>\n",
       "      <td>8</td>\n",
       "      <td>0</td>\n",
       "      <td>4</td>\n",
       "      <td>1</td>\n",
       "      <td>1</td>\n",
       "      <td>29.485847</td>\n",
       "      <td>32.73440</td>\n",
       "      <td>51.9167</td>\n",
       "      <td>9.500332</td>\n",
       "      <td>1338</td>\n",
       "      <td>6267</td>\n",
       "      <td>7605</td>\n",
       "    </tr>\n",
       "  </tbody>\n",
       "</table>\n",
       "</div>"
      ],
      "text/plain": [
       "     instant      dteday  season  yr  mnth  holiday  weekday  workingday  \\\n",
       "708      709  10-12-2019  winter   1    12        0        1           1   \n",
       "650      651  13-10-2019  winter   1    10        0        6           0   \n",
       "695      696  27-11-2019  winter   1    11        0        2           1   \n",
       "406      407  11-02-2019  spring   1     2        0        6           0   \n",
       "592      593  16-08-2019  autumn   1     8        0        4           1   \n",
       "\n",
       "     weathersit       temp     atemp      hum  windspeed  casual  registered  \\\n",
       "708           2  17.869153  21.77875  92.5000  12.750636     329        4841   \n",
       "650           1  16.126653  19.56980  49.4583   9.791514    2252        4857   \n",
       "695           2  11.958347  14.07790  78.6667  15.916654     123        3836   \n",
       "406           3   9.190847  10.54335  73.1250  19.416332     192        1977   \n",
       "592           1  29.485847  32.73440  51.9167   9.500332    1338        6267   \n",
       "\n",
       "      cnt  \n",
       "708  5170  \n",
       "650  7109  \n",
       "695  3959  \n",
       "406  2169  \n",
       "592  7605  "
      ]
     },
     "execution_count": 59,
     "metadata": {},
     "output_type": "execute_result"
    }
   ],
   "source": [
    "df.sample(5)"
   ]
  },
  {
   "attachments": {},
   "cell_type": "markdown",
   "metadata": {},
   "source": [
    "- 1. En la columna yr, el 0 hace referencia a 2018 y el 1 2019 ---> cambiar a 2018 y 2019\n",
    "- 2. Revisar estaciones segun meses - DONE  \n",
    "- 3. Los dias de la semana pasarlos a str (texto)\n",
    "- 4. Redondear temperaturas\n",
    "- 5. Cambiar dteday a tipo daytime - DONE \n",
    "- 6. Comprobar festivos - columna holiday - 16 días - DONE\n",
    "- 7. Los dias de la semana no corresponden con los que debieran ser - DONE\n",
    "- 9. Librería calendar - dia de la semana DONE.\n",
    "- 10. Chequear funcion seasons - DONE"
   ]
  },
  {
   "attachments": {},
   "cell_type": "markdown",
   "metadata": {},
   "source": [
    "Weathersit :\n",
    "- 1: Sol y nubes\n",
    "- 2: Niebla - nublado\n",
    "- 3: Regulinchi\n",
    "- 4: Tiempo chungo"
   ]
  },
  {
   "cell_type": "code",
   "execution_count": 60,
   "metadata": {},
   "outputs": [
    {
     "data": {
      "text/plain": [
       "0"
      ]
     },
     "execution_count": 60,
     "metadata": {},
     "output_type": "execute_result"
    }
   ],
   "source": [
    "df.duplicated().sum()"
   ]
  },
  {
   "cell_type": "code",
   "execution_count": 61,
   "metadata": {},
   "outputs": [
    {
     "data": {
      "text/plain": [
       "(730, 16)"
      ]
     },
     "execution_count": 61,
     "metadata": {},
     "output_type": "execute_result"
    }
   ],
   "source": [
    "df.shape"
   ]
  },
  {
   "attachments": {},
   "cell_type": "markdown",
   "metadata": {},
   "source": [
    "__________\n",
    "Reasignamos columna season"
   ]
  },
  {
   "cell_type": "code",
   "execution_count": 62,
   "metadata": {},
   "outputs": [],
   "source": [
    "#Cambiar columna 'dteday' a datatime\n",
    "\n",
    "df.dteday =pd.to_datetime(df.dteday, dayfirst=True)"
   ]
  },
  {
   "cell_type": "code",
   "execution_count": 63,
   "metadata": {},
   "outputs": [
    {
     "data": {
      "text/plain": [
       "array([ 1,  2,  3, 12])"
      ]
     },
     "execution_count": 63,
     "metadata": {},
     "output_type": "execute_result"
    }
   ],
   "source": [
    "primavera = df[df['season']=='spring'] #Primavera 20 marzo - 21 junio\n",
    "primavera['mnth'].unique()"
   ]
  },
  {
   "cell_type": "code",
   "execution_count": 64,
   "metadata": {},
   "outputs": [
    {
     "data": {
      "text/plain": [
       "array([ 9, 10, 11, 12])"
      ]
     },
     "execution_count": 64,
     "metadata": {},
     "output_type": "execute_result"
    }
   ],
   "source": [
    "invierno = df[df['season']=='winter'] # Invierno 21 de diciembre - 20 de marzo\n",
    "invierno['mnth'].unique()"
   ]
  },
  {
   "cell_type": "code",
   "execution_count": 65,
   "metadata": {},
   "outputs": [
    {
     "data": {
      "text/plain": [
       "array([3, 4, 5, 6])"
      ]
     },
     "execution_count": 65,
     "metadata": {},
     "output_type": "execute_result"
    }
   ],
   "source": [
    "#Verano 21 junio - 23 septiembre \n",
    "verano = df[df['season']=='summer'] \n",
    "verano['mnth'].unique()"
   ]
  },
  {
   "cell_type": "code",
   "execution_count": 66,
   "metadata": {},
   "outputs": [
    {
     "data": {
      "text/plain": [
       "array([6, 7, 8, 9])"
      ]
     },
     "execution_count": 66,
     "metadata": {},
     "output_type": "execute_result"
    }
   ],
   "source": [
    "#Otoño 23 septiembre - 21 de diciembre\n",
    "otoño = df[df['season']=='autumn'] \n",
    "otoño['mnth'].unique()"
   ]
  },
  {
   "cell_type": "code",
   "execution_count": 67,
   "metadata": {},
   "outputs": [],
   "source": [
    "mapa_estaciones ={\"spring\": \"winter\", \"winter\": \"autumn\", \"summer\":\"spring\", \"autumn\":\"summer\"}"
   ]
  },
  {
   "cell_type": "code",
   "execution_count": 68,
   "metadata": {},
   "outputs": [],
   "source": [
    "df[\"season\"] = df[\"season\"].map(mapa_estaciones)"
   ]
  },
  {
   "cell_type": "code",
   "execution_count": 69,
   "metadata": {},
   "outputs": [],
   "source": [
    "#Primavera 21 marzo - 20 junio\n",
    "#Verano 21 junio - 22 septiembre \n",
    "#Otoño 23 septiembre - 20 de diciembre\n",
    "#Invierno 21 de diciembre - 20 de marzo"
   ]
  },
  {
   "attachments": {},
   "cell_type": "markdown",
   "metadata": {},
   "source": [
    "_________________"
   ]
  },
  {
   "attachments": {},
   "cell_type": "markdown",
   "metadata": {},
   "source": [
    "Ajustamos los días de la semana"
   ]
  },
  {
   "cell_type": "code",
   "execution_count": 70,
   "metadata": {},
   "outputs": [],
   "source": [
    "def dia_semana(col):\n",
    "    return col.isoweekday()"
   ]
  },
  {
   "cell_type": "code",
   "execution_count": 71,
   "metadata": {},
   "outputs": [],
   "source": [
    "df[\"weekday\"]= df[\"dteday\"].apply(dia_semana)"
   ]
  },
  {
   "attachments": {},
   "cell_type": "markdown",
   "metadata": {},
   "source": [
    "__________\n"
   ]
  },
  {
   "cell_type": "code",
   "execution_count": 72,
   "metadata": {},
   "outputs": [
    {
     "data": {
      "text/plain": [
       "1    499\n",
       "0    231\n",
       "Name: workingday, dtype: int64"
      ]
     },
     "execution_count": 72,
     "metadata": {},
     "output_type": "execute_result"
    }
   ],
   "source": [
    "df.workingday.value_counts()"
   ]
  },
  {
   "cell_type": "code",
   "execution_count": 73,
   "metadata": {},
   "outputs": [
    {
     "data": {
      "text/plain": [
       "0    709\n",
       "1     21\n",
       "Name: holiday, dtype: int64"
      ]
     },
     "execution_count": 73,
     "metadata": {},
     "output_type": "execute_result"
    }
   ],
   "source": [
    "df.holiday.value_counts()"
   ]
  },
  {
   "cell_type": "code",
   "execution_count": 74,
   "metadata": {},
   "outputs": [],
   "source": [
    "#festivos_18 = [\"2018-01-01\",\"2018-01-16\", \"2018-02-13\", \"2018-02-20\", \"2018-03-31\", \"2018-05-29\", \"2018-07-04\", \"2018-07-05\", \"2018-07-28\" , \"2018-09-04\", \"2018-10-23\", \"2018-10-24\", \"2018-12-24\", \"2018-12-25\", \"2018-12-31\"]\n",
    "#festivos_19 = [\"2019-01-01\",\"2019-01-16\", \"2019-02-13\", \"2019-02-20\", \"2019-03-31\", \"2019-05-29\", \"2019-07-04\", \"2019-07-05\", \"2019-07-28\" , \"2019-09-04\", \"2019-10-23\", \"2019-10-24\", \"2019-12-24\", \"2019-12-25\", \"2019-12-31\"]"
   ]
  },
  {
   "cell_type": "code",
   "execution_count": 75,
   "metadata": {},
   "outputs": [],
   "source": [
    "#df[\"holiday\"] = df[\"dteday\"].isin([\"2018-01-01\",\"2018-01-16\", \"2018-02-13\", \"2018-02-20\", \"2018-03-31\", \"2018-05-29\", \"2018-07-04\", \"2018-07-05\", \"2018-07-28\" , \"2018-09-04\", \"2018-10-23\", \"2018-10-24\", \"2018-12-24\", \"2018-12-25\", \"2018-12-31\",\"2019-01-01\",\"2019-01-16\", \"2019-02-13\", \"2019-02-20\", \"2019-03-31\", \"2019-05-29\", \"2019-07-04\", \"2019-07-05\", \"2019-07-28\" , \"2019-09-04\", \"2019-10-23\", \"2019-10-24\", \"2019-12-24\", \"2019-12-25\", \"2019-12-31\"])\n",
    "#df.sample(3)"
   ]
  },
  {
   "cell_type": "code",
   "execution_count": 76,
   "metadata": {},
   "outputs": [],
   "source": [
    "#df.loc[df['holiday'] == False, 'holiday'] = 0\n",
    "#df.loc[df['holiday'] == True, 'holiday'] = 1\n"
   ]
  },
  {
   "cell_type": "code",
   "execution_count": 77,
   "metadata": {},
   "outputs": [
    {
     "data": {
      "text/html": [
       "<div>\n",
       "<style scoped>\n",
       "    .dataframe tbody tr th:only-of-type {\n",
       "        vertical-align: middle;\n",
       "    }\n",
       "\n",
       "    .dataframe tbody tr th {\n",
       "        vertical-align: top;\n",
       "    }\n",
       "\n",
       "    .dataframe thead th {\n",
       "        text-align: right;\n",
       "    }\n",
       "</style>\n",
       "<table border=\"1\" class=\"dataframe\">\n",
       "  <thead>\n",
       "    <tr style=\"text-align: right;\">\n",
       "      <th></th>\n",
       "      <th>instant</th>\n",
       "      <th>dteday</th>\n",
       "      <th>season</th>\n",
       "      <th>yr</th>\n",
       "      <th>mnth</th>\n",
       "      <th>holiday</th>\n",
       "      <th>weekday</th>\n",
       "      <th>workingday</th>\n",
       "      <th>weathersit</th>\n",
       "      <th>temp</th>\n",
       "      <th>atemp</th>\n",
       "      <th>hum</th>\n",
       "      <th>windspeed</th>\n",
       "      <th>casual</th>\n",
       "      <th>registered</th>\n",
       "      <th>cnt</th>\n",
       "    </tr>\n",
       "  </thead>\n",
       "  <tbody>\n",
       "    <tr>\n",
       "      <th>536</th>\n",
       "      <td>537</td>\n",
       "      <td>2019-06-21</td>\n",
       "      <td>summer</td>\n",
       "      <td>1</td>\n",
       "      <td>6</td>\n",
       "      <td>0</td>\n",
       "      <td>5</td>\n",
       "      <td>1</td>\n",
       "      <td>1</td>\n",
       "      <td>33.039153</td>\n",
       "      <td>37.62710</td>\n",
       "      <td>56.7917</td>\n",
       "      <td>7.958729</td>\n",
       "      <td>778</td>\n",
       "      <td>5127</td>\n",
       "      <td>5905</td>\n",
       "    </tr>\n",
       "    <tr>\n",
       "      <th>574</th>\n",
       "      <td>575</td>\n",
       "      <td>2019-07-29</td>\n",
       "      <td>summer</td>\n",
       "      <td>1</td>\n",
       "      <td>7</td>\n",
       "      <td>0</td>\n",
       "      <td>1</td>\n",
       "      <td>0</td>\n",
       "      <td>1</td>\n",
       "      <td>29.588347</td>\n",
       "      <td>33.39665</td>\n",
       "      <td>62.3750</td>\n",
       "      <td>11.416532</td>\n",
       "      <td>2153</td>\n",
       "      <td>4444</td>\n",
       "      <td>6597</td>\n",
       "    </tr>\n",
       "    <tr>\n",
       "      <th>368</th>\n",
       "      <td>369</td>\n",
       "      <td>2019-01-04</td>\n",
       "      <td>winter</td>\n",
       "      <td>1</td>\n",
       "      <td>1</td>\n",
       "      <td>0</td>\n",
       "      <td>5</td>\n",
       "      <td>1</td>\n",
       "      <td>2</td>\n",
       "      <td>4.407500</td>\n",
       "      <td>5.96685</td>\n",
       "      <td>41.4583</td>\n",
       "      <td>12.374900</td>\n",
       "      <td>95</td>\n",
       "      <td>2273</td>\n",
       "      <td>2368</td>\n",
       "    </tr>\n",
       "  </tbody>\n",
       "</table>\n",
       "</div>"
      ],
      "text/plain": [
       "     instant     dteday  season  yr  mnth  holiday  weekday  workingday  \\\n",
       "536      537 2019-06-21  summer   1     6        0        5           1   \n",
       "574      575 2019-07-29  summer   1     7        0        1           0   \n",
       "368      369 2019-01-04  winter   1     1        0        5           1   \n",
       "\n",
       "     weathersit       temp     atemp      hum  windspeed  casual  registered  \\\n",
       "536           1  33.039153  37.62710  56.7917   7.958729     778        5127   \n",
       "574           1  29.588347  33.39665  62.3750  11.416532    2153        4444   \n",
       "368           2   4.407500   5.96685  41.4583  12.374900      95        2273   \n",
       "\n",
       "      cnt  \n",
       "536  5905  \n",
       "574  6597  \n",
       "368  2368  "
      ]
     },
     "execution_count": 77,
     "metadata": {},
     "output_type": "execute_result"
    }
   ],
   "source": [
    "df.sample(3)"
   ]
  },
  {
   "cell_type": "code",
   "execution_count": 78,
   "metadata": {},
   "outputs": [
    {
     "data": {
      "text/plain": [
       "array([0, 1])"
      ]
     },
     "execution_count": 78,
     "metadata": {},
     "output_type": "execute_result"
    }
   ],
   "source": [
    "df.holiday.unique()"
   ]
  },
  {
   "cell_type": "code",
   "execution_count": null,
   "metadata": {},
   "outputs": [],
   "source": []
  },
  {
   "cell_type": "code",
   "execution_count": 79,
   "metadata": {},
   "outputs": [],
   "source": [
    "#Sacamos ls festivos con la libreria \n",
    "from datetime import date\n",
    "import holidays\n",
    "  \n",
    "us_holidays = holidays.US()\n",
    "festivos_nuevo = []\n",
    "for i in holidays.US(years = [2018, 2019], state = 'WA').items():\n",
    "    festivos_nuevo.append(i)\n"
   ]
  },
  {
   "cell_type": "code",
   "execution_count": 80,
   "metadata": {},
   "outputs": [],
   "source": [
    "#Creamos una lista con los festivos que faltan de la lista proporcionada por la empresa \n",
    "festivos_añadir = ['2018-02-13', '2018-03-31', '2018-07-05', '2018-07-28', '2018-11-24', '2018-12-24','2018-12-31', '2019-11-29', '2019-02-13' , '2019-03-31', '2019-07-05'\n",
    ",'2019-07-28' , '2019-12-24' , '2019-12-31']"
   ]
  },
  {
   "cell_type": "code",
   "execution_count": 81,
   "metadata": {},
   "outputs": [],
   "source": [
    "#Apendeamos la lista\n",
    "in_holidays = holidays.HolidayBase()\n",
    "in_holidays.append(festivos_añadir)"
   ]
  },
  {
   "cell_type": "code",
   "execution_count": 82,
   "metadata": {},
   "outputs": [],
   "source": [
    "#Convertimos a diccionario para poder añadirlo a las vacaciones que teniamos \n",
    "dict_holidays = dict(festivos_nuevo)"
   ]
  },
  {
   "cell_type": "code",
   "execution_count": 83,
   "metadata": {},
   "outputs": [],
   "source": [
    "in_holidays.update(dict_holidays)"
   ]
  },
  {
   "cell_type": "code",
   "execution_count": 84,
   "metadata": {},
   "outputs": [],
   "source": [
    "lista_festivos = list(in_holidays.keys())\n"
   ]
  },
  {
   "cell_type": "code",
   "execution_count": 85,
   "metadata": {},
   "outputs": [
    {
     "data": {
      "text/plain": [
       "35"
      ]
     },
     "execution_count": 85,
     "metadata": {},
     "output_type": "execute_result"
    }
   ],
   "source": [
    "len(lista_festivos)"
   ]
  },
  {
   "cell_type": "code",
   "execution_count": 86,
   "metadata": {},
   "outputs": [
    {
     "name": "stdout",
     "output_type": "stream",
     "text": [
      "[datetime.date(2018, 2, 13), datetime.date(2018, 3, 31), datetime.date(2018, 7, 5), datetime.date(2018, 7, 28), datetime.date(2018, 11, 24), datetime.date(2018, 12, 24), datetime.date(2018, 12, 31), datetime.date(2019, 11, 29), datetime.date(2019, 2, 13), datetime.date(2019, 3, 31), datetime.date(2019, 7, 5), datetime.date(2019, 7, 28), datetime.date(2019, 12, 24), datetime.date(2019, 12, 31), datetime.date(2018, 1, 1), datetime.date(2018, 1, 15), datetime.date(2018, 2, 19), datetime.date(2018, 5, 28), datetime.date(2018, 7, 4), datetime.date(2018, 9, 3), datetime.date(2018, 10, 8), datetime.date(2018, 11, 11), datetime.date(2018, 11, 12), datetime.date(2018, 11, 22), datetime.date(2018, 12, 25), datetime.date(2019, 1, 1), datetime.date(2019, 1, 21), datetime.date(2019, 2, 18), datetime.date(2019, 5, 27), datetime.date(2019, 7, 4), datetime.date(2019, 9, 2), datetime.date(2019, 10, 14), datetime.date(2019, 11, 11), datetime.date(2019, 11, 28), datetime.date(2019, 12, 25)]\n"
     ]
    }
   ],
   "source": [
    "print(lista_festivos)"
   ]
  },
  {
   "cell_type": "code",
   "execution_count": 87,
   "metadata": {},
   "outputs": [
    {
     "data": {
      "text/html": [
       "<div>\n",
       "<style scoped>\n",
       "    .dataframe tbody tr th:only-of-type {\n",
       "        vertical-align: middle;\n",
       "    }\n",
       "\n",
       "    .dataframe tbody tr th {\n",
       "        vertical-align: top;\n",
       "    }\n",
       "\n",
       "    .dataframe thead th {\n",
       "        text-align: right;\n",
       "    }\n",
       "</style>\n",
       "<table border=\"1\" class=\"dataframe\">\n",
       "  <thead>\n",
       "    <tr style=\"text-align: right;\">\n",
       "      <th></th>\n",
       "      <th>instant</th>\n",
       "      <th>dteday</th>\n",
       "      <th>season</th>\n",
       "      <th>yr</th>\n",
       "      <th>mnth</th>\n",
       "      <th>holiday</th>\n",
       "      <th>weekday</th>\n",
       "      <th>workingday</th>\n",
       "      <th>weathersit</th>\n",
       "      <th>temp</th>\n",
       "      <th>atemp</th>\n",
       "      <th>hum</th>\n",
       "      <th>windspeed</th>\n",
       "      <th>casual</th>\n",
       "      <th>registered</th>\n",
       "      <th>cnt</th>\n",
       "    </tr>\n",
       "  </thead>\n",
       "  <tbody>\n",
       "    <tr>\n",
       "      <th>13</th>\n",
       "      <td>14</td>\n",
       "      <td>2018-01-14</td>\n",
       "      <td>winter</td>\n",
       "      <td>0</td>\n",
       "      <td>1</td>\n",
       "      <td>False</td>\n",
       "      <td>7</td>\n",
       "      <td>1</td>\n",
       "      <td>1</td>\n",
       "      <td>6.59567</td>\n",
       "      <td>9.42065</td>\n",
       "      <td>53.7826</td>\n",
       "      <td>8.478716</td>\n",
       "      <td>54</td>\n",
       "      <td>1367</td>\n",
       "      <td>1421</td>\n",
       "    </tr>\n",
       "    <tr>\n",
       "      <th>459</th>\n",
       "      <td>460</td>\n",
       "      <td>2019-04-05</td>\n",
       "      <td>spring</td>\n",
       "      <td>1</td>\n",
       "      <td>4</td>\n",
       "      <td>False</td>\n",
       "      <td>5</td>\n",
       "      <td>1</td>\n",
       "      <td>1</td>\n",
       "      <td>17.83500</td>\n",
       "      <td>21.55815</td>\n",
       "      <td>37.4167</td>\n",
       "      <td>14.708443</td>\n",
       "      <td>1192</td>\n",
       "      <td>5265</td>\n",
       "      <td>6457</td>\n",
       "    </tr>\n",
       "    <tr>\n",
       "      <th>251</th>\n",
       "      <td>252</td>\n",
       "      <td>2018-09-09</td>\n",
       "      <td>summer</td>\n",
       "      <td>0</td>\n",
       "      <td>9</td>\n",
       "      <td>False</td>\n",
       "      <td>7</td>\n",
       "      <td>1</td>\n",
       "      <td>2</td>\n",
       "      <td>26.65000</td>\n",
       "      <td>28.94730</td>\n",
       "      <td>89.7917</td>\n",
       "      <td>8.333393</td>\n",
       "      <td>417</td>\n",
       "      <td>3127</td>\n",
       "      <td>3544</td>\n",
       "    </tr>\n",
       "  </tbody>\n",
       "</table>\n",
       "</div>"
      ],
      "text/plain": [
       "     instant     dteday  season  yr  mnth  holiday  weekday  workingday  \\\n",
       "13        14 2018-01-14  winter   0     1    False        7           1   \n",
       "459      460 2019-04-05  spring   1     4    False        5           1   \n",
       "251      252 2018-09-09  summer   0     9    False        7           1   \n",
       "\n",
       "     weathersit      temp     atemp      hum  windspeed  casual  registered  \\\n",
       "13            1   6.59567   9.42065  53.7826   8.478716      54        1367   \n",
       "459           1  17.83500  21.55815  37.4167  14.708443    1192        5265   \n",
       "251           2  26.65000  28.94730  89.7917   8.333393     417        3127   \n",
       "\n",
       "      cnt  \n",
       "13   1421  \n",
       "459  6457  \n",
       "251  3544  "
      ]
     },
     "execution_count": 87,
     "metadata": {},
     "output_type": "execute_result"
    }
   ],
   "source": [
    "df[\"holiday\"] = df[\"dteday\"].isin(lista_festivos)\n",
    "df.sample(3)"
   ]
  },
  {
   "cell_type": "code",
   "execution_count": 88,
   "metadata": {},
   "outputs": [],
   "source": [
    "df.loc[df['holiday'] == False, 'holiday'] = 0\n",
    "df.loc[df['holiday'] == True, 'holiday'] = 1"
   ]
  },
  {
   "cell_type": "code",
   "execution_count": 89,
   "metadata": {},
   "outputs": [
    {
     "data": {
      "text/plain": [
       "0    695\n",
       "1     35\n",
       "Name: holiday, dtype: int64"
      ]
     },
     "execution_count": 89,
     "metadata": {},
     "output_type": "execute_result"
    }
   ],
   "source": [
    "df.holiday.value_counts()"
   ]
  },
  {
   "cell_type": "code",
   "execution_count": 90,
   "metadata": {},
   "outputs": [
    {
     "data": {
      "text/html": [
       "<div>\n",
       "<style scoped>\n",
       "    .dataframe tbody tr th:only-of-type {\n",
       "        vertical-align: middle;\n",
       "    }\n",
       "\n",
       "    .dataframe tbody tr th {\n",
       "        vertical-align: top;\n",
       "    }\n",
       "\n",
       "    .dataframe thead th {\n",
       "        text-align: right;\n",
       "    }\n",
       "</style>\n",
       "<table border=\"1\" class=\"dataframe\">\n",
       "  <thead>\n",
       "    <tr style=\"text-align: right;\">\n",
       "      <th></th>\n",
       "      <th>instant</th>\n",
       "      <th>dteday</th>\n",
       "      <th>season</th>\n",
       "      <th>yr</th>\n",
       "      <th>mnth</th>\n",
       "      <th>holiday</th>\n",
       "      <th>weekday</th>\n",
       "      <th>workingday</th>\n",
       "      <th>weathersit</th>\n",
       "      <th>temp</th>\n",
       "      <th>atemp</th>\n",
       "      <th>hum</th>\n",
       "      <th>windspeed</th>\n",
       "      <th>casual</th>\n",
       "      <th>registered</th>\n",
       "      <th>cnt</th>\n",
       "    </tr>\n",
       "  </thead>\n",
       "  <tbody>\n",
       "    <tr>\n",
       "      <th>461</th>\n",
       "      <td>462</td>\n",
       "      <td>2019-04-07</td>\n",
       "      <td>spring</td>\n",
       "      <td>1</td>\n",
       "      <td>4</td>\n",
       "      <td>0</td>\n",
       "      <td>7</td>\n",
       "      <td>0</td>\n",
       "      <td>1</td>\n",
       "      <td>17.937500</td>\n",
       "      <td>21.30645</td>\n",
       "      <td>25.4167</td>\n",
       "      <td>18.416357</td>\n",
       "      <td>3252</td>\n",
       "      <td>3605</td>\n",
       "      <td>6857</td>\n",
       "    </tr>\n",
       "    <tr>\n",
       "      <th>196</th>\n",
       "      <td>197</td>\n",
       "      <td>2018-07-16</td>\n",
       "      <td>summer</td>\n",
       "      <td>0</td>\n",
       "      <td>7</td>\n",
       "      <td>0</td>\n",
       "      <td>1</td>\n",
       "      <td>0</td>\n",
       "      <td>1</td>\n",
       "      <td>28.153347</td>\n",
       "      <td>31.91315</td>\n",
       "      <td>58.5000</td>\n",
       "      <td>13.958914</td>\n",
       "      <td>2418</td>\n",
       "      <td>3505</td>\n",
       "      <td>5923</td>\n",
       "    </tr>\n",
       "    <tr>\n",
       "      <th>72</th>\n",
       "      <td>73</td>\n",
       "      <td>2018-03-14</td>\n",
       "      <td>winter</td>\n",
       "      <td>0</td>\n",
       "      <td>3</td>\n",
       "      <td>0</td>\n",
       "      <td>3</td>\n",
       "      <td>1</td>\n",
       "      <td>1</td>\n",
       "      <td>13.333897</td>\n",
       "      <td>16.60000</td>\n",
       "      <td>49.6957</td>\n",
       "      <td>9.174042</td>\n",
       "      <td>359</td>\n",
       "      <td>1687</td>\n",
       "      <td>2046</td>\n",
       "    </tr>\n",
       "    <tr>\n",
       "      <th>289</th>\n",
       "      <td>290</td>\n",
       "      <td>2018-10-17</td>\n",
       "      <td>autumn</td>\n",
       "      <td>0</td>\n",
       "      <td>10</td>\n",
       "      <td>0</td>\n",
       "      <td>3</td>\n",
       "      <td>1</td>\n",
       "      <td>1</td>\n",
       "      <td>21.900847</td>\n",
       "      <td>25.53625</td>\n",
       "      <td>57.9583</td>\n",
       "      <td>11.750393</td>\n",
       "      <td>713</td>\n",
       "      <td>3857</td>\n",
       "      <td>4570</td>\n",
       "    </tr>\n",
       "    <tr>\n",
       "      <th>593</th>\n",
       "      <td>594</td>\n",
       "      <td>2019-08-17</td>\n",
       "      <td>summer</td>\n",
       "      <td>1</td>\n",
       "      <td>8</td>\n",
       "      <td>0</td>\n",
       "      <td>6</td>\n",
       "      <td>1</td>\n",
       "      <td>1</td>\n",
       "      <td>29.656653</td>\n",
       "      <td>12.12000</td>\n",
       "      <td>57.0833</td>\n",
       "      <td>15.500718</td>\n",
       "      <td>1483</td>\n",
       "      <td>5665</td>\n",
       "      <td>7148</td>\n",
       "    </tr>\n",
       "  </tbody>\n",
       "</table>\n",
       "</div>"
      ],
      "text/plain": [
       "     instant     dteday  season  yr  mnth holiday  weekday  workingday  \\\n",
       "461      462 2019-04-07  spring   1     4       0        7           0   \n",
       "196      197 2018-07-16  summer   0     7       0        1           0   \n",
       "72        73 2018-03-14  winter   0     3       0        3           1   \n",
       "289      290 2018-10-17  autumn   0    10       0        3           1   \n",
       "593      594 2019-08-17  summer   1     8       0        6           1   \n",
       "\n",
       "     weathersit       temp     atemp      hum  windspeed  casual  registered  \\\n",
       "461           1  17.937500  21.30645  25.4167  18.416357    3252        3605   \n",
       "196           1  28.153347  31.91315  58.5000  13.958914    2418        3505   \n",
       "72            1  13.333897  16.60000  49.6957   9.174042     359        1687   \n",
       "289           1  21.900847  25.53625  57.9583  11.750393     713        3857   \n",
       "593           1  29.656653  12.12000  57.0833  15.500718    1483        5665   \n",
       "\n",
       "      cnt  \n",
       "461  6857  \n",
       "196  5923  \n",
       "72   2046  \n",
       "289  4570  \n",
       "593  7148  "
      ]
     },
     "execution_count": 90,
     "metadata": {},
     "output_type": "execute_result"
    }
   ],
   "source": [
    "df.sample(5)"
   ]
  },
  {
   "attachments": {},
   "cell_type": "markdown",
   "metadata": {},
   "source": [
    "\n",
    "---\n"
   ]
  },
  {
   "cell_type": "code",
   "execution_count": 91,
   "metadata": {},
   "outputs": [],
   "source": [
    "def workingday (col_holiday, col_weekday):\n",
    "    if col_holiday == 1:\n",
    "        return 'NO'\n",
    "    elif col_weekday == 6 or col_weekday == 7:\n",
    "        return 'NO'\n",
    "    else:\n",
    "        return 'SI'"
   ]
  },
  {
   "cell_type": "code",
   "execution_count": 92,
   "metadata": {},
   "outputs": [],
   "source": [
    "df['workingday'] = df.apply(lambda brocoli: workingday(brocoli['holiday'], brocoli['weekday']), axis = 1)"
   ]
  },
  {
   "cell_type": "code",
   "execution_count": 93,
   "metadata": {},
   "outputs": [],
   "source": [
    "df.to_csv('data/01_bikes_limpieza.csv')"
   ]
  },
  {
   "cell_type": "code",
   "execution_count": 94,
   "metadata": {},
   "outputs": [
    {
     "data": {
      "image/png": "[encoded data removed]",
      "text/plain": [
       "<Figure size 720x576 with 2 Axes>"
      ]
     },
     "metadata": {
      "needs_background": "light"
     },
     "output_type": "display_data"
    }
   ],
   "source": [
    "sns.heatmap(df.corr(), \n",
    "            cmap = \"YlGnBu\", \n",
    "           annot = True);"
   ]
  },
  {
   "cell_type": "code",
   "execution_count": 95,
   "metadata": {},
   "outputs": [
    {
     "name": "stdout",
     "output_type": "stream",
     "text": [
      "<class 'pandas.core.frame.DataFrame'>\n",
      "Int64Index: 730 entries, 0 to 729\n",
      "Data columns (total 16 columns):\n",
      " #   Column      Non-Null Count  Dtype         \n",
      "---  ------      --------------  -----         \n",
      " 0   instant     730 non-null    int64         \n",
      " 1   dteday      730 non-null    datetime64[ns]\n",
      " 2   season      730 non-null    object        \n",
      " 3   yr          730 non-null    int64         \n",
      " 4   mnth        730 non-null    int64         \n",
      " 5   holiday     730 non-null    object        \n",
      " 6   weekday     730 non-null    int64         \n",
      " 7   workingday  730 non-null    object        \n",
      " 8   weathersit  730 non-null    int64         \n",
      " 9   temp        730 non-null    float64       \n",
      " 10  atemp       730 non-null    float64       \n",
      " 11  hum         730 non-null    float64       \n",
      " 12  windspeed   730 non-null    float64       \n",
      " 13  casual      730 non-null    int64         \n",
      " 14  registered  730 non-null    int64         \n",
      " 15  cnt         730 non-null    int64         \n",
      "dtypes: datetime64[ns](1), float64(4), int64(8), object(3)\n",
      "memory usage: 97.0+ KB\n"
     ]
    }
   ],
   "source": [
    "df.info()"
   ]
  },
  {
   "attachments": {},
   "cell_type": "markdown",
   "metadata": {},
   "source": [
    "_____"
   ]
  },
  {
   "attachments": {},
   "cell_type": "markdown",
   "metadata": {},
   "source": [
    "Apuntes sprint1:\n",
    "- Graficas análisis exploratorio de cara a la demo\n",
    "- Cuidado con las variables predictoras -  habrá que probar diferentes cosas\n",
    "- Variables categóricas -  sacarlas de los boxplot - para poder analizar a part\n",
    "- Si no cumplimos normalidad - Random forest y fuera\n",
    "- Idiomas para la demo\n",
    "- Conteo fuera de nuestro modelo predictivo"
   ]
  },
  {
   "attachments": {},
   "cell_type": "markdown",
   "metadata": {},
   "source": [
    "_____________\n",
    "Homogeneizamos las columnas"
   ]
  },
  {
   "cell_type": "code",
   "execution_count": 96,
   "metadata": {},
   "outputs": [
    {
     "data": {
      "text/html": [
       "<div>\n",
       "<style scoped>\n",
       "    .dataframe tbody tr th:only-of-type {\n",
       "        vertical-align: middle;\n",
       "    }\n",
       "\n",
       "    .dataframe tbody tr th {\n",
       "        vertical-align: top;\n",
       "    }\n",
       "\n",
       "    .dataframe thead th {\n",
       "        text-align: right;\n",
       "    }\n",
       "</style>\n",
       "<table border=\"1\" class=\"dataframe\">\n",
       "  <thead>\n",
       "    <tr style=\"text-align: right;\">\n",
       "      <th></th>\n",
       "      <th>instant</th>\n",
       "      <th>dteday</th>\n",
       "      <th>season</th>\n",
       "      <th>yr</th>\n",
       "      <th>mnth</th>\n",
       "      <th>holiday</th>\n",
       "      <th>weekday</th>\n",
       "      <th>workingday</th>\n",
       "      <th>weathersit</th>\n",
       "      <th>temp</th>\n",
       "      <th>atemp</th>\n",
       "      <th>hum</th>\n",
       "      <th>windspeed</th>\n",
       "      <th>casual</th>\n",
       "      <th>registered</th>\n",
       "      <th>cnt</th>\n",
       "    </tr>\n",
       "  </thead>\n",
       "  <tbody>\n",
       "    <tr>\n",
       "      <th>0</th>\n",
       "      <td>1</td>\n",
       "      <td>2018-01-01</td>\n",
       "      <td>winter</td>\n",
       "      <td>0</td>\n",
       "      <td>1</td>\n",
       "      <td>1</td>\n",
       "      <td>1</td>\n",
       "      <td>NO</td>\n",
       "      <td>2</td>\n",
       "      <td>14.110847</td>\n",
       "      <td>18.18125</td>\n",
       "      <td>80.5833</td>\n",
       "      <td>10.749882</td>\n",
       "      <td>331</td>\n",
       "      <td>654</td>\n",
       "      <td>985</td>\n",
       "    </tr>\n",
       "    <tr>\n",
       "      <th>1</th>\n",
       "      <td>2</td>\n",
       "      <td>2018-01-02</td>\n",
       "      <td>winter</td>\n",
       "      <td>0</td>\n",
       "      <td>1</td>\n",
       "      <td>0</td>\n",
       "      <td>2</td>\n",
       "      <td>SI</td>\n",
       "      <td>2</td>\n",
       "      <td>14.902598</td>\n",
       "      <td>17.68695</td>\n",
       "      <td>69.6087</td>\n",
       "      <td>16.652113</td>\n",
       "      <td>131</td>\n",
       "      <td>670</td>\n",
       "      <td>801</td>\n",
       "    </tr>\n",
       "    <tr>\n",
       "      <th>2</th>\n",
       "      <td>3</td>\n",
       "      <td>2018-01-03</td>\n",
       "      <td>winter</td>\n",
       "      <td>0</td>\n",
       "      <td>1</td>\n",
       "      <td>0</td>\n",
       "      <td>3</td>\n",
       "      <td>SI</td>\n",
       "      <td>1</td>\n",
       "      <td>8.050924</td>\n",
       "      <td>9.47025</td>\n",
       "      <td>43.7273</td>\n",
       "      <td>16.636703</td>\n",
       "      <td>120</td>\n",
       "      <td>1229</td>\n",
       "      <td>1349</td>\n",
       "    </tr>\n",
       "    <tr>\n",
       "      <th>3</th>\n",
       "      <td>4</td>\n",
       "      <td>2018-01-04</td>\n",
       "      <td>winter</td>\n",
       "      <td>0</td>\n",
       "      <td>1</td>\n",
       "      <td>0</td>\n",
       "      <td>4</td>\n",
       "      <td>SI</td>\n",
       "      <td>1</td>\n",
       "      <td>8.200000</td>\n",
       "      <td>10.60610</td>\n",
       "      <td>59.0435</td>\n",
       "      <td>10.739832</td>\n",
       "      <td>108</td>\n",
       "      <td>1454</td>\n",
       "      <td>1562</td>\n",
       "    </tr>\n",
       "    <tr>\n",
       "      <th>4</th>\n",
       "      <td>5</td>\n",
       "      <td>2018-01-05</td>\n",
       "      <td>winter</td>\n",
       "      <td>0</td>\n",
       "      <td>1</td>\n",
       "      <td>0</td>\n",
       "      <td>5</td>\n",
       "      <td>SI</td>\n",
       "      <td>1</td>\n",
       "      <td>9.305237</td>\n",
       "      <td>11.46350</td>\n",
       "      <td>43.6957</td>\n",
       "      <td>12.522300</td>\n",
       "      <td>82</td>\n",
       "      <td>1518</td>\n",
       "      <td>1600</td>\n",
       "    </tr>\n",
       "  </tbody>\n",
       "</table>\n",
       "</div>"
      ],
      "text/plain": [
       "   instant     dteday  season  yr  mnth holiday  weekday workingday  \\\n",
       "0        1 2018-01-01  winter   0     1       1        1         NO   \n",
       "1        2 2018-01-02  winter   0     1       0        2         SI   \n",
       "2        3 2018-01-03  winter   0     1       0        3         SI   \n",
       "3        4 2018-01-04  winter   0     1       0        4         SI   \n",
       "4        5 2018-01-05  winter   0     1       0        5         SI   \n",
       "\n",
       "   weathersit       temp     atemp      hum  windspeed  casual  registered  \\\n",
       "0           2  14.110847  18.18125  80.5833  10.749882     331         654   \n",
       "1           2  14.902598  17.68695  69.6087  16.652113     131         670   \n",
       "2           1   8.050924   9.47025  43.7273  16.636703     120        1229   \n",
       "3           1   8.200000  10.60610  59.0435  10.739832     108        1454   \n",
       "4           1   9.305237  11.46350  43.6957  12.522300      82        1518   \n",
       "\n",
       "    cnt  \n",
       "0   985  \n",
       "1   801  \n",
       "2  1349  \n",
       "3  1562  \n",
       "4  1600  "
      ]
     },
     "execution_count": 96,
     "metadata": {},
     "output_type": "execute_result"
    }
   ],
   "source": [
    "df.head()"
   ]
  },
  {
   "cell_type": "code",
   "execution_count": 97,
   "metadata": {},
   "outputs": [
    {
     "data": {
      "text/plain": [
       "<bound method IndexOpsMixin.tolist of Index(['instant', 'dteday', 'season', 'yr', 'mnth', 'holiday', 'weekday',\n",
       "       'workingday', 'weathersit', 'temp', 'atemp', 'hum', 'windspeed',\n",
       "       'casual', 'registered', 'cnt'],\n",
       "      dtype='object')>"
      ]
     },
     "execution_count": 97,
     "metadata": {},
     "output_type": "execute_result"
    }
   ],
   "source": [
    "df.columns.to_list"
   ]
  },
  {
   "cell_type": "code",
   "execution_count": 98,
   "metadata": {},
   "outputs": [],
   "source": [
    "nombres_nuevos = {'instant': \"registro\", 'dteday':\"fecha\", 'season':\"estacion\", 'yr':\"año\", 'mnth':\"mes\", 'holiday':\"vacaciones\", 'weekday':\"dia_semana\",\n",
    "                    'workingday':\"laborable\", 'weathersit':\"clima\", 'temp':\"temperatura\", 'atemp':\"sensacion_termica\", 'hum':\"humedad\", 'windspeed':\"viento\",\n",
    "                     'casual':\"casuales\", 'registered':\"registrados\", 'cnt':\"totales\"}"
   ]
  },
  {
   "cell_type": "code",
   "execution_count": 99,
   "metadata": {},
   "outputs": [],
   "source": [
    "df.rename(columns=nombres_nuevos, inplace=True)"
   ]
  },
  {
   "cell_type": "code",
   "execution_count": 100,
   "metadata": {},
   "outputs": [
    {
     "data": {
      "text/html": [
       "<div>\n",
       "<style scoped>\n",
       "    .dataframe tbody tr th:only-of-type {\n",
       "        vertical-align: middle;\n",
       "    }\n",
       "\n",
       "    .dataframe tbody tr th {\n",
       "        vertical-align: top;\n",
       "    }\n",
       "\n",
       "    .dataframe thead th {\n",
       "        text-align: right;\n",
       "    }\n",
       "</style>\n",
       "<table border=\"1\" class=\"dataframe\">\n",
       "  <thead>\n",
       "    <tr style=\"text-align: right;\">\n",
       "      <th></th>\n",
       "      <th>registro</th>\n",
       "      <th>fecha</th>\n",
       "      <th>estacion</th>\n",
       "      <th>año</th>\n",
       "      <th>mes</th>\n",
       "      <th>vacaciones</th>\n",
       "      <th>dia_semana</th>\n",
       "      <th>laborable</th>\n",
       "      <th>clima</th>\n",
       "      <th>temperatura</th>\n",
       "      <th>sensacion_termica</th>\n",
       "      <th>humedad</th>\n",
       "      <th>viento</th>\n",
       "      <th>casuales</th>\n",
       "      <th>registrados</th>\n",
       "      <th>totales</th>\n",
       "    </tr>\n",
       "  </thead>\n",
       "  <tbody>\n",
       "    <tr>\n",
       "      <th>0</th>\n",
       "      <td>1</td>\n",
       "      <td>2018-01-01</td>\n",
       "      <td>winter</td>\n",
       "      <td>0</td>\n",
       "      <td>1</td>\n",
       "      <td>1</td>\n",
       "      <td>1</td>\n",
       "      <td>NO</td>\n",
       "      <td>2</td>\n",
       "      <td>14.110847</td>\n",
       "      <td>18.18125</td>\n",
       "      <td>80.5833</td>\n",
       "      <td>10.749882</td>\n",
       "      <td>331</td>\n",
       "      <td>654</td>\n",
       "      <td>985</td>\n",
       "    </tr>\n",
       "    <tr>\n",
       "      <th>1</th>\n",
       "      <td>2</td>\n",
       "      <td>2018-01-02</td>\n",
       "      <td>winter</td>\n",
       "      <td>0</td>\n",
       "      <td>1</td>\n",
       "      <td>0</td>\n",
       "      <td>2</td>\n",
       "      <td>SI</td>\n",
       "      <td>2</td>\n",
       "      <td>14.902598</td>\n",
       "      <td>17.68695</td>\n",
       "      <td>69.6087</td>\n",
       "      <td>16.652113</td>\n",
       "      <td>131</td>\n",
       "      <td>670</td>\n",
       "      <td>801</td>\n",
       "    </tr>\n",
       "  </tbody>\n",
       "</table>\n",
       "</div>"
      ],
      "text/plain": [
       "   registro      fecha estacion  año  mes vacaciones  dia_semana laborable  \\\n",
       "0         1 2018-01-01   winter    0    1          1           1        NO   \n",
       "1         2 2018-01-02   winter    0    1          0           2        SI   \n",
       "\n",
       "   clima  temperatura  sensacion_termica  humedad     viento  casuales  \\\n",
       "0      2    14.110847           18.18125  80.5833  10.749882       331   \n",
       "1      2    14.902598           17.68695  69.6087  16.652113       131   \n",
       "\n",
       "   registrados  totales  \n",
       "0          654      985  \n",
       "1          670      801  "
      ]
     },
     "execution_count": 100,
     "metadata": {},
     "output_type": "execute_result"
    }
   ],
   "source": [
    "df.head(2)"
   ]
  },
  {
   "attachments": {},
   "cell_type": "markdown",
   "metadata": {},
   "source": [
    "_____________"
   ]
  },
  {
   "attachments": {},
   "cell_type": "markdown",
   "metadata": {},
   "source": [
    "Separamos los df"
   ]
  },
  {
   "cell_type": "code",
   "execution_count": 101,
   "metadata": {},
   "outputs": [],
   "source": [
    "df.to_csv('data/01_bikes_limpieza.csv')"
   ]
  },
  {
   "cell_type": "code",
   "execution_count": 102,
   "metadata": {},
   "outputs": [],
   "source": [
    "df_registrados = df.drop([\"totales\", \"casuales\"], axis=1 )"
   ]
  },
  {
   "cell_type": "code",
   "execution_count": 103,
   "metadata": {},
   "outputs": [],
   "source": [
    "df_casuales = df.drop([\"totales\", \"registrados\"], axis=1)"
   ]
  },
  {
   "cell_type": "code",
   "execution_count": 104,
   "metadata": {},
   "outputs": [],
   "source": [
    "df_registrados.to_csv('data/01_bikes_registrados.csv')"
   ]
  },
  {
   "cell_type": "code",
   "execution_count": 105,
   "metadata": {},
   "outputs": [],
   "source": [
    "df_casuales.to_csv('data/01_bikes_casuales.csv')"
   ]
  }
 ],
 "metadata": {
  "kernelspec": {
   "display_name": "base",
   "language": "python",
   "name": "python3"
  },
  "language_info": {
   "codemirror_mode": {
    "name": "ipython",
    "version": 3
   },
   "file_extension": ".py",
   "mimetype": "text/x-python",
   "name": "python",
   "nbconvert_exporter": "python",
   "pygments_lexer": "ipython3",
   "version": "3.9.7"
  },
  "orig_nbformat": 4,
  "vscode": {
   "interpreter": {
    "hash": "b3191f930eabfdf0eb39086a24df618ea48425015dbb471465fb2c793fed20fd"
   }
  }
 },
 "nbformat": 4,
 "nbformat_minor": 2
}
