{
 "cells": [
  {
   "cell_type": "code",
   "execution_count": 36,
   "metadata": {},
   "outputs": [],
   "source": [
    "# Tratamiento de datos\n",
    "# -----------------------------------------------------------------------\n",
    "import numpy as np\n",
    "import pandas as pd\n",
    "\n",
    "# Abrir transformers\n",
    "import pickle\n",
    "\n",
    "# Preprocesado\n",
    "from sklearn.preprocessing import LabelEncoder # para realizar el Label Encoding \n",
    "from sklearn.preprocessing import OneHotEncoder  # para realizar el One-Hot Encoding\n",
    "\n",
    "#  Modelado y evaluación\n",
    "# -----------------------------------------------------------------------------\n",
    "from sklearn.model_selection import train_test_split\n",
    "from sklearn.linear_model import LinearRegression\n",
    "from sklearn.metrics import r2_score, mean_squared_error, mean_absolute_error\n",
    "\n",
    "#  Mapas\n",
    "# -----------------------------------------------------------------------------\n",
    "import mapas_casuales as mc\n",
    "import mapas_registrados as mr\n",
    "\n",
    "#  Warnings\n",
    "# -----------------------------------------------------------------------------\n",
    "import warnings\n",
    "warnings.filterwarnings('ignore')"
   ]
  },
  {
   "cell_type": "code",
   "execution_count": 37,
   "metadata": {},
   "outputs": [],
   "source": [
    "with open(\"../data/rf_bosque_reg_84-86.pkl\", \"rb\") as r:\n",
    "    pred_reg = pickle.load(r)"
   ]
  },
  {
   "cell_type": "code",
   "execution_count": 38,
   "metadata": {},
   "outputs": [],
   "source": [
    "with open(\"../data/rf_75-75_343-339_casuales.pkl\", \"rb\") as c:\n",
    "    pred_cas = pickle.load(c)"
   ]
  },
  {
   "cell_type": "code",
   "execution_count": 39,
   "metadata": {},
   "outputs": [],
   "source": [
    "# Convertimos los datos para registrados y hacemos la predicción \n",
    "def prediccion (diccionario_tiempo):\n",
    "\n",
    "    df_tiempo = pd.DataFrame(diccionario_tiempo, index = [0])\n",
    "\n",
    "    df_registrados=df_tiempo.copy()\n",
    "    df_registrados.rename(columns ={'laborable_cod':'cod_SI'}, inplace = True)\n",
    "\n",
    "    df_registrados[\"mes_map\"] = df_registrados[\"mes_map\"].map(mr.mapa_mes)\n",
    "    df_registrados[\"estacion_map\"] = df_registrados[\"estacion_map\"].map(mr.mapa_estacion)\n",
    "    df_registrados[\"dia_semana_map\"] = df_registrados[\"dia_semana_map\"].map(mr.mapa_dia_semana)\n",
    "    df_registrados[\"clima_map\"] = df_registrados[\"clima_map\"].map(mr.mapa_clima)\n",
    "    df_registrados[\"vacaciones_map\"] = df_registrados[\"vacaciones_map\"].map(mr.mapa_vacaciones)\n",
    "    df_registrados[\"cod_SI\"] = df_registrados[\"cod_SI\"].map(mr.mapa_laborable)\n",
    "\n",
    "    registrados = int(pred_reg.predict(df_registrados))\n",
    "\n",
    "    #Predecimos las casuales\n",
    "    df_casuales=df_tiempo.copy()\n",
    "    df_casuales.rename(columns ={'vacaciones_map':'vacaciones', 'laborable_cod':'laborable_map'}, inplace = True)\n",
    "\n",
    "    df_casuales[\"mes_map\"] = df_casuales[\"mes_map\"].map(mc.mapa_mes)\n",
    "    df_casuales[\"estacion_map\"] = df_casuales[\"estacion_map\"].map(mc.mapa_estacion)\n",
    "    df_casuales[\"dia_semana_map\"] = df_casuales[\"dia_semana_map\"].map(mc.mapa_dia_semana)\n",
    "    df_casuales[\"clima_map\"] = df_casuales[\"clima_map\"].map(mc.mapa_clima)\n",
    "    df_casuales[\"laborable_map\"] = df_casuales[\"laborable_map\"].map(mc.mapa_laborable)\n",
    "\n",
    "    casuales = int(pred_cas.predict(df_casuales))\n",
    "\n",
    "    #Calculamos el total\n",
    "    total = casuales + registrados\n",
    "\n",
    "    #Convertimos a dataFrame\n",
    "    df_prediccion = pd.DataFrame({'casuales':casuales,'registrados':registrados, 'total':total}, index=[0])\n",
    "    return df_prediccion"
   ]
  },
  {
   "cell_type": "code",
   "execution_count": 40,
   "metadata": {},
   "outputs": [],
   "source": [
    "tiempo = {\"año\": 2, \"sensacion_termica\": 2 , \"humedad\": 47 , \"viento\": 40 , \"mes_map\": 2, \"estacion_map\": 'winter',\n",
    "         \"dia_semana_map\": 2, \"clima_map\":1, \"vacaciones_map\": 0, 'laborable_cod': 'SI'}"
   ]
  },
  {
   "cell_type": "code",
   "execution_count": 41,
   "metadata": {},
   "outputs": [
    {
     "data": {
      "text/html": [
       "<div>\n",
       "<style scoped>\n",
       "    .dataframe tbody tr th:only-of-type {\n",
       "        vertical-align: middle;\n",
       "    }\n",
       "\n",
       "    .dataframe tbody tr th {\n",
       "        vertical-align: top;\n",
       "    }\n",
       "\n",
       "    .dataframe thead th {\n",
       "        text-align: right;\n",
       "    }\n",
       "</style>\n",
       "<table border=\"1\" class=\"dataframe\">\n",
       "  <thead>\n",
       "    <tr style=\"text-align: right;\">\n",
       "      <th></th>\n",
       "      <th>casuales</th>\n",
       "      <th>registrados</th>\n",
       "      <th>total</th>\n",
       "    </tr>\n",
       "  </thead>\n",
       "  <tbody>\n",
       "    <tr>\n",
       "      <th>0</th>\n",
       "      <td>1126</td>\n",
       "      <td>2245</td>\n",
       "      <td>3371</td>\n",
       "    </tr>\n",
       "  </tbody>\n",
       "</table>\n",
       "</div>"
      ],
      "text/plain": [
       "   casuales  registrados  total\n",
       "0      1126         2245   3371"
      ]
     },
     "execution_count": 41,
     "metadata": {},
     "output_type": "execute_result"
    }
   ],
   "source": [
    "prediccion(tiempo)"
   ]
  }
 ],
 "metadata": {
  "kernelspec": {
   "display_name": "base",
   "language": "python",
   "name": "python3"
  },
  "language_info": {
   "codemirror_mode": {
    "name": "ipython",
    "version": 3
   },
   "file_extension": ".py",
   "mimetype": "text/x-python",
   "name": "python",
   "nbconvert_exporter": "python",
   "pygments_lexer": "ipython3",
   "version": "3.9.13"
  },
  "orig_nbformat": 4,
  "vscode": {
   "interpreter": {
    "hash": "85c042135e83639dad74b6ec6c9d943b5dc47ca281624d931a3e14168052f53c"
   }
  }
 },
 "nbformat": 4,
 "nbformat_minor": 2
}
